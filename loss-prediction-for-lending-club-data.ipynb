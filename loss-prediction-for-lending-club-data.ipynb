{
 "cells": [
  {
   "cell_type": "code",
   "execution_count": 1,
   "id": "disabled-scratch",
   "metadata": {
    "_cell_guid": "b1076dfc-b9ad-4769-8c92-a6c4dae69d19",
    "_uuid": "8f2839f25d086af736a60e9eeb907d3b93b6e0e5",
    "execution": {
     "iopub.execute_input": "2021-05-25T11:05:17.877197Z",
     "iopub.status.busy": "2021-05-25T11:05:17.876527Z",
     "iopub.status.idle": "2021-05-25T11:05:17.879054Z",
     "shell.execute_reply": "2021-05-25T11:05:17.879496Z",
     "shell.execute_reply.started": "2021-05-25T10:57:37.833829Z"
    },
    "papermill": {
     "duration": 0.074134,
     "end_time": "2021-05-25T11:05:17.879786",
     "exception": false,
     "start_time": "2021-05-25T11:05:17.805652",
     "status": "completed"
    },
    "tags": []
   },
   "outputs": [],
   "source": [
    "import pandas as pd\n",
    "import numpy as np\n",
    "import warnings\n",
    "warnings.filterwarnings(\"ignore\")"
   ]
  },
  {
   "cell_type": "code",
   "execution_count": 2,
   "id": "figured-george",
   "metadata": {
    "execution": {
     "iopub.execute_input": "2021-05-25T11:05:18.015756Z",
     "iopub.status.busy": "2021-05-25T11:05:18.015100Z",
     "iopub.status.idle": "2021-05-25T11:06:53.927171Z",
     "shell.execute_reply": "2021-05-25T11:06:53.927755Z",
     "shell.execute_reply.started": "2021-05-25T10:59:12.264279Z"
    },
    "papermill": {
     "duration": 95.983337,
     "end_time": "2021-05-25T11:06:53.927948",
     "exception": false,
     "start_time": "2021-05-25T11:05:17.944611",
     "status": "completed"
    },
    "tags": []
   },
   "outputs": [],
   "source": [
    "df_orig=pd.read_csv('../input/lending-club/accepted_2007_to_2018Q4.csv.gz',low_memory=False)"
   ]
  },
  {
   "cell_type": "code",
   "execution_count": 3,
   "id": "indirect-lottery",
   "metadata": {
    "execution": {
     "iopub.execute_input": "2021-05-25T11:06:54.061853Z",
     "iopub.status.busy": "2021-05-25T11:06:54.061223Z",
     "iopub.status.idle": "2021-05-25T11:06:54.109146Z",
     "shell.execute_reply": "2021-05-25T11:06:54.109621Z",
     "shell.execute_reply.started": "2021-05-25T11:00:48.947513Z"
    },
    "papermill": {
     "duration": 0.115786,
     "end_time": "2021-05-25T11:06:54.109800",
     "exception": false,
     "start_time": "2021-05-25T11:06:53.994014",
     "status": "completed"
    },
    "tags": []
   },
   "outputs": [
    {
     "data": {
      "text/html": [
       "<div>\n",
       "<style scoped>\n",
       "    .dataframe tbody tr th:only-of-type {\n",
       "        vertical-align: middle;\n",
       "    }\n",
       "\n",
       "    .dataframe tbody tr th {\n",
       "        vertical-align: top;\n",
       "    }\n",
       "\n",
       "    .dataframe thead th {\n",
       "        text-align: right;\n",
       "    }\n",
       "</style>\n",
       "<table border=\"1\" class=\"dataframe\">\n",
       "  <thead>\n",
       "    <tr style=\"text-align: right;\">\n",
       "      <th></th>\n",
       "      <th>id</th>\n",
       "      <th>member_id</th>\n",
       "      <th>loan_amnt</th>\n",
       "      <th>funded_amnt</th>\n",
       "      <th>funded_amnt_inv</th>\n",
       "      <th>term</th>\n",
       "      <th>int_rate</th>\n",
       "      <th>installment</th>\n",
       "      <th>grade</th>\n",
       "      <th>sub_grade</th>\n",
       "      <th>...</th>\n",
       "      <th>hardship_payoff_balance_amount</th>\n",
       "      <th>hardship_last_payment_amount</th>\n",
       "      <th>disbursement_method</th>\n",
       "      <th>debt_settlement_flag</th>\n",
       "      <th>debt_settlement_flag_date</th>\n",
       "      <th>settlement_status</th>\n",
       "      <th>settlement_date</th>\n",
       "      <th>settlement_amount</th>\n",
       "      <th>settlement_percentage</th>\n",
       "      <th>settlement_term</th>\n",
       "    </tr>\n",
       "  </thead>\n",
       "  <tbody>\n",
       "    <tr>\n",
       "      <th>0</th>\n",
       "      <td>68407277</td>\n",
       "      <td>NaN</td>\n",
       "      <td>3600.0</td>\n",
       "      <td>3600.0</td>\n",
       "      <td>3600.0</td>\n",
       "      <td>36 months</td>\n",
       "      <td>13.99</td>\n",
       "      <td>123.03</td>\n",
       "      <td>C</td>\n",
       "      <td>C4</td>\n",
       "      <td>...</td>\n",
       "      <td>NaN</td>\n",
       "      <td>NaN</td>\n",
       "      <td>Cash</td>\n",
       "      <td>N</td>\n",
       "      <td>NaN</td>\n",
       "      <td>NaN</td>\n",
       "      <td>NaN</td>\n",
       "      <td>NaN</td>\n",
       "      <td>NaN</td>\n",
       "      <td>NaN</td>\n",
       "    </tr>\n",
       "    <tr>\n",
       "      <th>1</th>\n",
       "      <td>68355089</td>\n",
       "      <td>NaN</td>\n",
       "      <td>24700.0</td>\n",
       "      <td>24700.0</td>\n",
       "      <td>24700.0</td>\n",
       "      <td>36 months</td>\n",
       "      <td>11.99</td>\n",
       "      <td>820.28</td>\n",
       "      <td>C</td>\n",
       "      <td>C1</td>\n",
       "      <td>...</td>\n",
       "      <td>NaN</td>\n",
       "      <td>NaN</td>\n",
       "      <td>Cash</td>\n",
       "      <td>N</td>\n",
       "      <td>NaN</td>\n",
       "      <td>NaN</td>\n",
       "      <td>NaN</td>\n",
       "      <td>NaN</td>\n",
       "      <td>NaN</td>\n",
       "      <td>NaN</td>\n",
       "    </tr>\n",
       "    <tr>\n",
       "      <th>2</th>\n",
       "      <td>68341763</td>\n",
       "      <td>NaN</td>\n",
       "      <td>20000.0</td>\n",
       "      <td>20000.0</td>\n",
       "      <td>20000.0</td>\n",
       "      <td>60 months</td>\n",
       "      <td>10.78</td>\n",
       "      <td>432.66</td>\n",
       "      <td>B</td>\n",
       "      <td>B4</td>\n",
       "      <td>...</td>\n",
       "      <td>NaN</td>\n",
       "      <td>NaN</td>\n",
       "      <td>Cash</td>\n",
       "      <td>N</td>\n",
       "      <td>NaN</td>\n",
       "      <td>NaN</td>\n",
       "      <td>NaN</td>\n",
       "      <td>NaN</td>\n",
       "      <td>NaN</td>\n",
       "      <td>NaN</td>\n",
       "    </tr>\n",
       "    <tr>\n",
       "      <th>3</th>\n",
       "      <td>66310712</td>\n",
       "      <td>NaN</td>\n",
       "      <td>35000.0</td>\n",
       "      <td>35000.0</td>\n",
       "      <td>35000.0</td>\n",
       "      <td>60 months</td>\n",
       "      <td>14.85</td>\n",
       "      <td>829.90</td>\n",
       "      <td>C</td>\n",
       "      <td>C5</td>\n",
       "      <td>...</td>\n",
       "      <td>NaN</td>\n",
       "      <td>NaN</td>\n",
       "      <td>Cash</td>\n",
       "      <td>N</td>\n",
       "      <td>NaN</td>\n",
       "      <td>NaN</td>\n",
       "      <td>NaN</td>\n",
       "      <td>NaN</td>\n",
       "      <td>NaN</td>\n",
       "      <td>NaN</td>\n",
       "    </tr>\n",
       "    <tr>\n",
       "      <th>4</th>\n",
       "      <td>68476807</td>\n",
       "      <td>NaN</td>\n",
       "      <td>10400.0</td>\n",
       "      <td>10400.0</td>\n",
       "      <td>10400.0</td>\n",
       "      <td>60 months</td>\n",
       "      <td>22.45</td>\n",
       "      <td>289.91</td>\n",
       "      <td>F</td>\n",
       "      <td>F1</td>\n",
       "      <td>...</td>\n",
       "      <td>NaN</td>\n",
       "      <td>NaN</td>\n",
       "      <td>Cash</td>\n",
       "      <td>N</td>\n",
       "      <td>NaN</td>\n",
       "      <td>NaN</td>\n",
       "      <td>NaN</td>\n",
       "      <td>NaN</td>\n",
       "      <td>NaN</td>\n",
       "      <td>NaN</td>\n",
       "    </tr>\n",
       "  </tbody>\n",
       "</table>\n",
       "<p>5 rows × 151 columns</p>\n",
       "</div>"
      ],
      "text/plain": [
       "         id  member_id  loan_amnt  funded_amnt  funded_amnt_inv        term  \\\n",
       "0  68407277        NaN     3600.0       3600.0           3600.0   36 months   \n",
       "1  68355089        NaN    24700.0      24700.0          24700.0   36 months   \n",
       "2  68341763        NaN    20000.0      20000.0          20000.0   60 months   \n",
       "3  66310712        NaN    35000.0      35000.0          35000.0   60 months   \n",
       "4  68476807        NaN    10400.0      10400.0          10400.0   60 months   \n",
       "\n",
       "   int_rate  installment grade sub_grade  ... hardship_payoff_balance_amount  \\\n",
       "0     13.99       123.03     C        C4  ...                            NaN   \n",
       "1     11.99       820.28     C        C1  ...                            NaN   \n",
       "2     10.78       432.66     B        B4  ...                            NaN   \n",
       "3     14.85       829.90     C        C5  ...                            NaN   \n",
       "4     22.45       289.91     F        F1  ...                            NaN   \n",
       "\n",
       "  hardship_last_payment_amount disbursement_method  debt_settlement_flag  \\\n",
       "0                          NaN                Cash                     N   \n",
       "1                          NaN                Cash                     N   \n",
       "2                          NaN                Cash                     N   \n",
       "3                          NaN                Cash                     N   \n",
       "4                          NaN                Cash                     N   \n",
       "\n",
       "  debt_settlement_flag_date settlement_status settlement_date  \\\n",
       "0                       NaN               NaN             NaN   \n",
       "1                       NaN               NaN             NaN   \n",
       "2                       NaN               NaN             NaN   \n",
       "3                       NaN               NaN             NaN   \n",
       "4                       NaN               NaN             NaN   \n",
       "\n",
       "  settlement_amount settlement_percentage settlement_term  \n",
       "0               NaN                   NaN             NaN  \n",
       "1               NaN                   NaN             NaN  \n",
       "2               NaN                   NaN             NaN  \n",
       "3               NaN                   NaN             NaN  \n",
       "4               NaN                   NaN             NaN  \n",
       "\n",
       "[5 rows x 151 columns]"
      ]
     },
     "execution_count": 3,
     "metadata": {},
     "output_type": "execute_result"
    }
   ],
   "source": [
    "df_orig.head()"
   ]
  },
  {
   "cell_type": "markdown",
   "id": "royal-hebrew",
   "metadata": {
    "execution": {
     "iopub.execute_input": "2021-05-25T07:09:14.652112Z",
     "iopub.status.busy": "2021-05-25T07:09:14.651663Z",
     "iopub.status.idle": "2021-05-25T07:09:14.658948Z",
     "shell.execute_reply": "2021-05-25T07:09:14.656979Z",
     "shell.execute_reply.started": "2021-05-25T07:09:14.652079Z"
    },
    "papermill": {
     "duration": 0.064707,
     "end_time": "2021-05-25T11:06:54.239611",
     "exception": false,
     "start_time": "2021-05-25T11:06:54.174904",
     "status": "completed"
    },
    "tags": []
   },
   "source": [
    "# Intial data analysis to look at the structure and understand the features"
   ]
  },
  {
   "cell_type": "markdown",
   "id": "connected-equipment",
   "metadata": {
    "papermill": {
     "duration": 0.064499,
     "end_time": "2021-05-25T11:06:54.369077",
     "exception": false,
     "start_time": "2021-05-25T11:06:54.304578",
     "status": "completed"
    },
    "tags": []
   },
   "source": [
    "For training our pd model, we will only look at default and fully paid loans"
   ]
  },
  {
   "cell_type": "code",
   "execution_count": 4,
   "id": "attended-vertical",
   "metadata": {
    "execution": {
     "iopub.execute_input": "2021-05-25T11:06:54.503309Z",
     "iopub.status.busy": "2021-05-25T11:06:54.502293Z",
     "iopub.status.idle": "2021-05-25T11:06:55.862145Z",
     "shell.execute_reply": "2021-05-25T11:06:55.862586Z",
     "shell.execute_reply.started": "2021-05-25T11:00:52.478153Z"
    },
    "papermill": {
     "duration": 1.42844,
     "end_time": "2021-05-25T11:06:55.862779",
     "exception": false,
     "start_time": "2021-05-25T11:06:54.434339",
     "status": "completed"
    },
    "tags": []
   },
   "outputs": [
    {
     "data": {
      "text/html": [
       "<div>\n",
       "<style scoped>\n",
       "    .dataframe tbody tr th:only-of-type {\n",
       "        vertical-align: middle;\n",
       "    }\n",
       "\n",
       "    .dataframe tbody tr th {\n",
       "        vertical-align: top;\n",
       "    }\n",
       "\n",
       "    .dataframe thead th {\n",
       "        text-align: right;\n",
       "    }\n",
       "</style>\n",
       "<table border=\"1\" class=\"dataframe\">\n",
       "  <thead>\n",
       "    <tr style=\"text-align: right;\">\n",
       "      <th></th>\n",
       "      <th>id</th>\n",
       "      <th>member_id</th>\n",
       "      <th>loan_amnt</th>\n",
       "      <th>funded_amnt</th>\n",
       "      <th>funded_amnt_inv</th>\n",
       "      <th>term</th>\n",
       "      <th>int_rate</th>\n",
       "      <th>installment</th>\n",
       "      <th>grade</th>\n",
       "      <th>sub_grade</th>\n",
       "      <th>...</th>\n",
       "      <th>hardship_payoff_balance_amount</th>\n",
       "      <th>hardship_last_payment_amount</th>\n",
       "      <th>disbursement_method</th>\n",
       "      <th>debt_settlement_flag</th>\n",
       "      <th>debt_settlement_flag_date</th>\n",
       "      <th>settlement_status</th>\n",
       "      <th>settlement_date</th>\n",
       "      <th>settlement_amount</th>\n",
       "      <th>settlement_percentage</th>\n",
       "      <th>settlement_term</th>\n",
       "    </tr>\n",
       "  </thead>\n",
       "  <tbody>\n",
       "    <tr>\n",
       "      <th>0</th>\n",
       "      <td>68407277</td>\n",
       "      <td>NaN</td>\n",
       "      <td>3600.0</td>\n",
       "      <td>3600.0</td>\n",
       "      <td>3600.0</td>\n",
       "      <td>36 months</td>\n",
       "      <td>13.99</td>\n",
       "      <td>123.03</td>\n",
       "      <td>C</td>\n",
       "      <td>C4</td>\n",
       "      <td>...</td>\n",
       "      <td>NaN</td>\n",
       "      <td>NaN</td>\n",
       "      <td>Cash</td>\n",
       "      <td>N</td>\n",
       "      <td>NaN</td>\n",
       "      <td>NaN</td>\n",
       "      <td>NaN</td>\n",
       "      <td>NaN</td>\n",
       "      <td>NaN</td>\n",
       "      <td>NaN</td>\n",
       "    </tr>\n",
       "    <tr>\n",
       "      <th>1</th>\n",
       "      <td>68355089</td>\n",
       "      <td>NaN</td>\n",
       "      <td>24700.0</td>\n",
       "      <td>24700.0</td>\n",
       "      <td>24700.0</td>\n",
       "      <td>36 months</td>\n",
       "      <td>11.99</td>\n",
       "      <td>820.28</td>\n",
       "      <td>C</td>\n",
       "      <td>C1</td>\n",
       "      <td>...</td>\n",
       "      <td>NaN</td>\n",
       "      <td>NaN</td>\n",
       "      <td>Cash</td>\n",
       "      <td>N</td>\n",
       "      <td>NaN</td>\n",
       "      <td>NaN</td>\n",
       "      <td>NaN</td>\n",
       "      <td>NaN</td>\n",
       "      <td>NaN</td>\n",
       "      <td>NaN</td>\n",
       "    </tr>\n",
       "    <tr>\n",
       "      <th>2</th>\n",
       "      <td>68341763</td>\n",
       "      <td>NaN</td>\n",
       "      <td>20000.0</td>\n",
       "      <td>20000.0</td>\n",
       "      <td>20000.0</td>\n",
       "      <td>60 months</td>\n",
       "      <td>10.78</td>\n",
       "      <td>432.66</td>\n",
       "      <td>B</td>\n",
       "      <td>B4</td>\n",
       "      <td>...</td>\n",
       "      <td>NaN</td>\n",
       "      <td>NaN</td>\n",
       "      <td>Cash</td>\n",
       "      <td>N</td>\n",
       "      <td>NaN</td>\n",
       "      <td>NaN</td>\n",
       "      <td>NaN</td>\n",
       "      <td>NaN</td>\n",
       "      <td>NaN</td>\n",
       "      <td>NaN</td>\n",
       "    </tr>\n",
       "    <tr>\n",
       "      <th>4</th>\n",
       "      <td>68476807</td>\n",
       "      <td>NaN</td>\n",
       "      <td>10400.0</td>\n",
       "      <td>10400.0</td>\n",
       "      <td>10400.0</td>\n",
       "      <td>60 months</td>\n",
       "      <td>22.45</td>\n",
       "      <td>289.91</td>\n",
       "      <td>F</td>\n",
       "      <td>F1</td>\n",
       "      <td>...</td>\n",
       "      <td>NaN</td>\n",
       "      <td>NaN</td>\n",
       "      <td>Cash</td>\n",
       "      <td>N</td>\n",
       "      <td>NaN</td>\n",
       "      <td>NaN</td>\n",
       "      <td>NaN</td>\n",
       "      <td>NaN</td>\n",
       "      <td>NaN</td>\n",
       "      <td>NaN</td>\n",
       "    </tr>\n",
       "    <tr>\n",
       "      <th>5</th>\n",
       "      <td>68426831</td>\n",
       "      <td>NaN</td>\n",
       "      <td>11950.0</td>\n",
       "      <td>11950.0</td>\n",
       "      <td>11950.0</td>\n",
       "      <td>36 months</td>\n",
       "      <td>13.44</td>\n",
       "      <td>405.18</td>\n",
       "      <td>C</td>\n",
       "      <td>C3</td>\n",
       "      <td>...</td>\n",
       "      <td>NaN</td>\n",
       "      <td>NaN</td>\n",
       "      <td>Cash</td>\n",
       "      <td>N</td>\n",
       "      <td>NaN</td>\n",
       "      <td>NaN</td>\n",
       "      <td>NaN</td>\n",
       "      <td>NaN</td>\n",
       "      <td>NaN</td>\n",
       "      <td>NaN</td>\n",
       "    </tr>\n",
       "  </tbody>\n",
       "</table>\n",
       "<p>5 rows × 151 columns</p>\n",
       "</div>"
      ],
      "text/plain": [
       "         id  member_id  loan_amnt  funded_amnt  funded_amnt_inv        term  \\\n",
       "0  68407277        NaN     3600.0       3600.0           3600.0   36 months   \n",
       "1  68355089        NaN    24700.0      24700.0          24700.0   36 months   \n",
       "2  68341763        NaN    20000.0      20000.0          20000.0   60 months   \n",
       "4  68476807        NaN    10400.0      10400.0          10400.0   60 months   \n",
       "5  68426831        NaN    11950.0      11950.0          11950.0   36 months   \n",
       "\n",
       "   int_rate  installment grade sub_grade  ... hardship_payoff_balance_amount  \\\n",
       "0     13.99       123.03     C        C4  ...                            NaN   \n",
       "1     11.99       820.28     C        C1  ...                            NaN   \n",
       "2     10.78       432.66     B        B4  ...                            NaN   \n",
       "4     22.45       289.91     F        F1  ...                            NaN   \n",
       "5     13.44       405.18     C        C3  ...                            NaN   \n",
       "\n",
       "  hardship_last_payment_amount disbursement_method  debt_settlement_flag  \\\n",
       "0                          NaN                Cash                     N   \n",
       "1                          NaN                Cash                     N   \n",
       "2                          NaN                Cash                     N   \n",
       "4                          NaN                Cash                     N   \n",
       "5                          NaN                Cash                     N   \n",
       "\n",
       "  debt_settlement_flag_date settlement_status settlement_date  \\\n",
       "0                       NaN               NaN             NaN   \n",
       "1                       NaN               NaN             NaN   \n",
       "2                       NaN               NaN             NaN   \n",
       "4                       NaN               NaN             NaN   \n",
       "5                       NaN               NaN             NaN   \n",
       "\n",
       "  settlement_amount settlement_percentage settlement_term  \n",
       "0               NaN                   NaN             NaN  \n",
       "1               NaN                   NaN             NaN  \n",
       "2               NaN                   NaN             NaN  \n",
       "4               NaN                   NaN             NaN  \n",
       "5               NaN                   NaN             NaN  \n",
       "\n",
       "[5 rows x 151 columns]"
      ]
     },
     "execution_count": 4,
     "metadata": {},
     "output_type": "execute_result"
    }
   ],
   "source": [
    "df = df_orig[(df_orig['loan_status']=='Fully Paid') | (df_orig['loan_status']=='Charged Off')]\n",
    "df.head()"
   ]
  },
  {
   "cell_type": "markdown",
   "id": "marked-bunny",
   "metadata": {
    "papermill": {
     "duration": 0.066581,
     "end_time": "2021-05-25T11:06:55.995115",
     "exception": false,
     "start_time": "2021-05-25T11:06:55.928534",
     "status": "completed"
    },
    "tags": []
   },
   "source": [
    "Changing the variable to binary classifier"
   ]
  },
  {
   "cell_type": "code",
   "execution_count": 5,
   "id": "optical-producer",
   "metadata": {
    "execution": {
     "iopub.execute_input": "2021-05-25T11:06:56.290393Z",
     "iopub.status.busy": "2021-05-25T11:06:56.289656Z",
     "iopub.status.idle": "2021-05-25T11:06:56.299127Z",
     "shell.execute_reply": "2021-05-25T11:06:56.298571Z",
     "shell.execute_reply.started": "2021-05-25T11:00:56.967452Z"
    },
    "papermill": {
     "duration": 0.236968,
     "end_time": "2021-05-25T11:06:56.299277",
     "exception": false,
     "start_time": "2021-05-25T11:06:56.062309",
     "status": "completed"
    },
    "tags": []
   },
   "outputs": [],
   "source": [
    "df['loan_status_bin'] = df['loan_status'].map({'Charged Off': 1, 'Fully Paid': 0})"
   ]
  },
  {
   "cell_type": "markdown",
   "id": "injured-lounge",
   "metadata": {
    "papermill": {
     "duration": 0.065342,
     "end_time": "2021-05-25T11:06:56.430741",
     "exception": false,
     "start_time": "2021-05-25T11:06:56.365399",
     "status": "completed"
    },
    "tags": []
   },
   "source": [
    "### Looking at feature grade"
   ]
  },
  {
   "cell_type": "markdown",
   "id": "beneficial-panel",
   "metadata": {
    "papermill": {
     "duration": 0.065246,
     "end_time": "2021-05-25T11:06:56.561614",
     "exception": false,
     "start_time": "2021-05-25T11:06:56.496368",
     "status": "completed"
    },
    "tags": []
   },
   "source": [
    "Looking at the number of cutomers accepted in each grade, we can see that the grades with high number of customers are 'B' and 'C'\n",
    "\n"
   ]
  },
  {
   "cell_type": "code",
   "execution_count": 6,
   "id": "expensive-petersburg",
   "metadata": {
    "execution": {
     "iopub.execute_input": "2021-05-25T11:06:56.961817Z",
     "iopub.status.busy": "2021-05-25T11:06:56.960721Z",
     "iopub.status.idle": "2021-05-25T11:06:57.175117Z",
     "shell.execute_reply": "2021-05-25T11:06:57.174435Z",
     "shell.execute_reply.started": "2021-05-25T11:00:59.327709Z"
    },
    "papermill": {
     "duration": 0.54793,
     "end_time": "2021-05-25T11:06:57.175265",
     "exception": false,
     "start_time": "2021-05-25T11:06:56.627335",
     "status": "completed"
    },
    "tags": []
   },
   "outputs": [
    {
     "data": {
      "text/plain": [
       "<AxesSubplot:>"
      ]
     },
     "execution_count": 6,
     "metadata": {},
     "output_type": "execute_result"
    },
    {
     "data": {
      "image/png": "[encoded data removed]",
      "text/plain": [
       "<Figure size 432x288 with 1 Axes>"
      ]
     },
     "metadata": {
      "needs_background": "light"
     },
     "output_type": "display_data"
    }
   ],
   "source": [
    "(df['grade'].value_counts().sort_index()/len(df)).plot.bar()"
   ]
  },
  {
   "cell_type": "markdown",
   "id": "harmful-manual",
   "metadata": {
    "papermill": {
     "duration": 0.067319,
     "end_time": "2021-05-25T11:06:57.310525",
     "exception": false,
     "start_time": "2021-05-25T11:06:57.243206",
     "status": "completed"
    },
    "tags": []
   },
   "source": [
    "### Looking at feature employment length"
   ]
  },
  {
   "cell_type": "markdown",
   "id": "supported-processor",
   "metadata": {
    "papermill": {
     "duration": 0.066148,
     "end_time": "2021-05-25T11:06:57.443607",
     "exception": false,
     "start_time": "2021-05-25T11:06:57.377459",
     "status": "completed"
    },
    "tags": []
   },
   "source": [
    "Before we can have a look at the distribution of the employment length we need to transform it into numerical values"
   ]
  },
  {
   "cell_type": "code",
   "execution_count": 7,
   "id": "sought-cylinder",
   "metadata": {
    "execution": {
     "iopub.execute_input": "2021-05-25T11:06:57.583306Z",
     "iopub.status.busy": "2021-05-25T11:06:57.582591Z",
     "iopub.status.idle": "2021-05-25T11:06:59.545118Z",
     "shell.execute_reply": "2021-05-25T11:06:59.544489Z",
     "shell.execute_reply.started": "2021-05-25T11:01:03.661072Z"
    },
    "papermill": {
     "duration": 2.035279,
     "end_time": "2021-05-25T11:06:59.545252",
     "exception": false,
     "start_time": "2021-05-25T11:06:57.509973",
     "status": "completed"
    },
    "tags": []
   },
   "outputs": [
    {
     "data": {
      "text/plain": [
       "<AxesSubplot:>"
      ]
     },
     "execution_count": 7,
     "metadata": {},
     "output_type": "execute_result"
    },
    {
     "data": {
      "image/png": "[encoded data removed]",
      "text/plain": [
       "<Figure size 432x288 with 1 Axes>"
      ]
     },
     "metadata": {
      "needs_background": "light"
     },
     "output_type": "display_data"
    }
   ],
   "source": [
    "def emp_to_num(term):\n",
    "    if pd.isna(term):\n",
    "        return None\n",
    "    elif term[2]=='+':\n",
    "        return 10\n",
    "    elif term[0]=='<':\n",
    "        return 0\n",
    "    else:\n",
    "        return int(term[0])\n",
    "\n",
    "df['emp_length_num'] = df['emp_length'].apply(emp_to_num)\n",
    "(df['emp_length_num'].value_counts().sort_index()/len(df)).plot.bar()"
   ]
  },
  {
   "cell_type": "code",
   "execution_count": 8,
   "id": "sunset-buddy",
   "metadata": {
    "execution": {
     "iopub.execute_input": "2021-05-25T11:06:59.685510Z",
     "iopub.status.busy": "2021-05-25T11:06:59.684814Z",
     "iopub.status.idle": "2021-05-25T11:06:59.895925Z",
     "shell.execute_reply": "2021-05-25T11:06:59.896412Z",
     "shell.execute_reply.started": "2021-05-25T11:01:08.573409Z"
    },
    "papermill": {
     "duration": 0.283881,
     "end_time": "2021-05-25T11:06:59.896590",
     "exception": false,
     "start_time": "2021-05-25T11:06:59.612709",
     "status": "completed"
    },
    "tags": []
   },
   "outputs": [
    {
     "data": {
      "text/plain": [
       "<AxesSubplot:xlabel='emp_length_num'>"
      ]
     },
     "execution_count": 8,
     "metadata": {},
     "output_type": "execute_result"
    },
    {
     "data": {
      "image/png": "[encoded data removed]",
      "text/plain": [
       "<Figure size 432x288 with 1 Axes>"
      ]
     },
     "metadata": {
      "needs_background": "light"
     },
     "output_type": "display_data"
    }
   ],
   "source": [
    "df.groupby('emp_length_num')['loan_status_bin'].mean().plot.bar()"
   ]
  },
  {
   "cell_type": "markdown",
   "id": "environmental-munich",
   "metadata": {
    "papermill": {
     "duration": 0.086454,
     "end_time": "2021-05-25T11:07:00.057604",
     "exception": false,
     "start_time": "2021-05-25T11:06:59.971150",
     "status": "completed"
    },
    "tags": []
   },
   "source": [
    "Plotting the relation between employment length and default rate, we can see that there is no relation,i.e almost 2 to 9 have the same default rate, only <= 1 has a slightly higher and >10 has a slightly lower rate,so we will just divide the employment length into 2 variables 10+ and <=1 year"
   ]
  },
  {
   "cell_type": "code",
   "execution_count": 9,
   "id": "limiting-mention",
   "metadata": {
    "execution": {
     "iopub.execute_input": "2021-05-25T11:07:00.204890Z",
     "iopub.status.busy": "2021-05-25T11:07:00.204185Z",
     "iopub.status.idle": "2021-05-25T11:07:01.791123Z",
     "shell.execute_reply": "2021-05-25T11:07:01.790554Z",
     "shell.execute_reply.started": "2021-05-25T11:01:13.618331Z"
    },
    "papermill": {
     "duration": 1.662662,
     "end_time": "2021-05-25T11:07:01.791275",
     "exception": false,
     "start_time": "2021-05-25T11:07:00.128613",
     "status": "completed"
    },
    "tags": []
   },
   "outputs": [],
   "source": [
    "df['long_emp'] = df['emp_length'].apply(lambda x: 1*(x=='10+ years'))\n",
    "df['short_emp'] = df['emp_length'].apply(lambda x: 1*(x=='1 year' or x=='< 1 year'))"
   ]
  },
  {
   "cell_type": "markdown",
   "id": "compact-content",
   "metadata": {
    "papermill": {
     "duration": 0.068278,
     "end_time": "2021-05-25T11:07:01.928930",
     "exception": false,
     "start_time": "2021-05-25T11:07:01.860652",
     "status": "completed"
    },
    "tags": []
   },
   "source": [
    "### Let's have a look at the distribution of interest rate"
   ]
  },
  {
   "cell_type": "code",
   "execution_count": 10,
   "id": "becoming-feelings",
   "metadata": {
    "execution": {
     "iopub.execute_input": "2021-05-25T11:07:02.074912Z",
     "iopub.status.busy": "2021-05-25T11:07:02.074147Z",
     "iopub.status.idle": "2021-05-25T11:07:02.390005Z",
     "shell.execute_reply": "2021-05-25T11:07:02.388918Z",
     "shell.execute_reply.started": "2021-05-25T11:01:24.014209Z"
    },
    "papermill": {
     "duration": 0.392279,
     "end_time": "2021-05-25T11:07:02.390163",
     "exception": false,
     "start_time": "2021-05-25T11:07:01.997884",
     "status": "completed"
    },
    "tags": []
   },
   "outputs": [
    {
     "data": {
      "text/plain": [
       "<AxesSubplot:ylabel='Frequency'>"
      ]
     },
     "execution_count": 10,
     "metadata": {},
     "output_type": "execute_result"
    },
    {
     "data": {
      "image/png": "[encoded data removed]",
      "text/plain": [
       "<Figure size 432x288 with 1 Axes>"
      ]
     },
     "metadata": {
      "needs_background": "light"
     },
     "output_type": "display_data"
    }
   ],
   "source": [
    "(df['int_rate']/len(df)).plot.hist(bins=10)"
   ]
  },
  {
   "cell_type": "markdown",
   "id": "unlimited-wright",
   "metadata": {
    "papermill": {
     "duration": 0.070223,
     "end_time": "2021-05-25T11:07:02.530773",
     "exception": false,
     "start_time": "2021-05-25T11:07:02.460550",
     "status": "completed"
    },
    "tags": []
   },
   "source": [
    "### Let's have a look at the distribution of annual income"
   ]
  },
  {
   "cell_type": "markdown",
   "id": "conventional-parent",
   "metadata": {
    "papermill": {
     "duration": 0.069802,
     "end_time": "2021-05-25T11:07:02.670876",
     "exception": false,
     "start_time": "2021-05-25T11:07:02.601074",
     "status": "completed"
    },
    "tags": []
   },
   "source": [
    "This seems so be log-normal-distributed so we do a log-transform."
   ]
  },
  {
   "cell_type": "code",
   "execution_count": 11,
   "id": "digital-commercial",
   "metadata": {
    "execution": {
     "iopub.execute_input": "2021-05-25T11:07:02.818096Z",
     "iopub.status.busy": "2021-05-25T11:07:02.817333Z",
     "iopub.status.idle": "2021-05-25T11:07:05.051335Z",
     "shell.execute_reply": "2021-05-25T11:07:05.051887Z",
     "shell.execute_reply.started": "2021-05-25T11:01:28.352292Z"
    },
    "papermill": {
     "duration": 2.310899,
     "end_time": "2021-05-25T11:07:05.052152",
     "exception": false,
     "start_time": "2021-05-25T11:07:02.741253",
     "status": "completed"
    },
    "tags": []
   },
   "outputs": [
    {
     "data": {
      "image/png": "[encoded data removed]",
      "text/plain": [
       "<Figure size 432x288 with 1 Axes>"
      ]
     },
     "metadata": {
      "needs_background": "light"
     },
     "output_type": "display_data"
    }
   ],
   "source": [
    "df[df['annual_inc']<200000]['annual_inc'].plot.hist(bins=20, rwidth=0.9)\n",
    "df['annual_inc_log'] = df['annual_inc'].apply(np.log)"
   ]
  },
  {
   "cell_type": "markdown",
   "id": "reliable-result",
   "metadata": {
    "papermill": {
     "duration": 0.071037,
     "end_time": "2021-05-25T11:07:05.194765",
     "exception": false,
     "start_time": "2021-05-25T11:07:05.123728",
     "status": "completed"
    },
    "tags": []
   },
   "source": [
    "### Looking at feature purpose"
   ]
  },
  {
   "cell_type": "markdown",
   "id": "macro-injury",
   "metadata": {
    "execution": {
     "iopub.execute_input": "2021-05-25T07:26:05.683490Z",
     "iopub.status.busy": "2021-05-25T07:26:05.683100Z",
     "iopub.status.idle": "2021-05-25T07:26:05.689139Z",
     "shell.execute_reply": "2021-05-25T07:26:05.687821Z",
     "shell.execute_reply.started": "2021-05-25T07:26:05.683458Z"
    },
    "papermill": {
     "duration": 0.070312,
     "end_time": "2021-05-25T11:07:05.335287",
     "exception": false,
     "start_time": "2021-05-25T11:07:05.264975",
     "status": "completed"
    },
    "tags": []
   },
   "source": [
    "We can see that the most frequent purpose is debt consolidation"
   ]
  },
  {
   "cell_type": "code",
   "execution_count": 12,
   "id": "killing-adobe",
   "metadata": {
    "execution": {
     "iopub.execute_input": "2021-05-25T11:07:05.479902Z",
     "iopub.status.busy": "2021-05-25T11:07:05.479198Z",
     "iopub.status.idle": "2021-05-25T11:07:06.033556Z",
     "shell.execute_reply": "2021-05-25T11:07:06.034085Z",
     "shell.execute_reply.started": "2021-05-25T11:01:35.821195Z"
    },
    "papermill": {
     "duration": 0.62852,
     "end_time": "2021-05-25T11:07:06.034271",
     "exception": false,
     "start_time": "2021-05-25T11:07:05.405751",
     "status": "completed"
    },
    "tags": []
   },
   "outputs": [
    {
     "data": {
      "text/plain": [
       "<AxesSubplot:>"
      ]
     },
     "execution_count": 12,
     "metadata": {},
     "output_type": "execute_result"
    },
    {
     "data": {
      "image/png": "[encoded data removed]",
      "text/plain": [
       "<Figure size 432x288 with 1 Axes>"
      ]
     },
     "metadata": {
      "needs_background": "light"
     },
     "output_type": "display_data"
    }
   ],
   "source": [
    "(df['purpose'].value_counts()/len(df)).plot.bar()"
   ]
  },
  {
   "cell_type": "markdown",
   "id": "desirable-impact",
   "metadata": {
    "papermill": {
     "duration": 0.071758,
     "end_time": "2021-05-25T11:07:06.178230",
     "exception": false,
     "start_time": "2021-05-25T11:07:06.106472",
     "status": "completed"
    },
    "tags": []
   },
   "source": [
    "### Looking at the relationship between grade,default rate and interest rate"
   ]
  },
  {
   "cell_type": "markdown",
   "id": "marked-train",
   "metadata": {
    "papermill": {
     "duration": 0.07146,
     "end_time": "2021-05-25T11:07:06.321681",
     "exception": false,
     "start_time": "2021-05-25T11:07:06.250221",
     "status": "completed"
    },
    "tags": []
   },
   "source": [
    "We can see almost a linear relation between default rate and grade"
   ]
  },
  {
   "cell_type": "code",
   "execution_count": 13,
   "id": "nonprofit-collector",
   "metadata": {
    "execution": {
     "iopub.execute_input": "2021-05-25T11:07:06.469204Z",
     "iopub.status.busy": "2021-05-25T11:07:06.468506Z",
     "iopub.status.idle": "2021-05-25T11:07:06.697167Z",
     "shell.execute_reply": "2021-05-25T11:07:06.696608Z",
     "shell.execute_reply.started": "2021-05-25T11:01:41.088504Z"
    },
    "papermill": {
     "duration": 0.303132,
     "end_time": "2021-05-25T11:07:06.697314",
     "exception": false,
     "start_time": "2021-05-25T11:07:06.394182",
     "status": "completed"
    },
    "tags": []
   },
   "outputs": [
    {
     "data": {
      "text/plain": [
       "<AxesSubplot:xlabel='grade'>"
      ]
     },
     "execution_count": 13,
     "metadata": {},
     "output_type": "execute_result"
    },
    {
     "data": {
      "image/png": "[encoded data removed]",
      "text/plain": [
       "<Figure size 432x288 with 1 Axes>"
      ]
     },
     "metadata": {
      "needs_background": "light"
     },
     "output_type": "display_data"
    }
   ],
   "source": [
    "df.groupby('grade')['loan_status_bin'].mean().plot.line()"
   ]
  },
  {
   "cell_type": "markdown",
   "id": "proprietary-digit",
   "metadata": {
    "papermill": {
     "duration": 0.072931,
     "end_time": "2021-05-25T11:07:06.844702",
     "exception": false,
     "start_time": "2021-05-25T11:07:06.771771",
     "status": "completed"
    },
    "tags": []
   },
   "source": [
    "We can also see an almost linear relation between interest rate and grade"
   ]
  },
  {
   "cell_type": "code",
   "execution_count": 14,
   "id": "military-farmer",
   "metadata": {
    "execution": {
     "iopub.execute_input": "2021-05-25T11:07:07.014592Z",
     "iopub.status.busy": "2021-05-25T11:07:07.013649Z",
     "iopub.status.idle": "2021-05-25T11:07:07.207864Z",
     "shell.execute_reply": "2021-05-25T11:07:07.207202Z",
     "shell.execute_reply.started": "2021-05-25T11:01:45.322474Z"
    },
    "papermill": {
     "duration": 0.291006,
     "end_time": "2021-05-25T11:07:07.208008",
     "exception": false,
     "start_time": "2021-05-25T11:07:06.917002",
     "status": "completed"
    },
    "tags": []
   },
   "outputs": [
    {
     "data": {
      "text/plain": [
       "<AxesSubplot:xlabel='grade'>"
      ]
     },
     "execution_count": 14,
     "metadata": {},
     "output_type": "execute_result"
    },
    {
     "data": {
      "image/png": "[encoded data removed]",
      "text/plain": [
       "<Figure size 432x288 with 1 Axes>"
      ]
     },
     "metadata": {
      "needs_background": "light"
     },
     "output_type": "display_data"
    }
   ],
   "source": [
    "df.groupby('grade')['int_rate'].mean().plot.line(color='blue')"
   ]
  },
  {
   "cell_type": "markdown",
   "id": "foreign-induction",
   "metadata": {
    "papermill": {
     "duration": 0.073156,
     "end_time": "2021-05-25T11:07:07.354243",
     "exception": false,
     "start_time": "2021-05-25T11:07:07.281087",
     "status": "completed"
    },
    "tags": []
   },
   "source": [
    "This means that there is also a linear relationship between interest rate and default rate which is an interesting observation, we will look into this later"
   ]
  },
  {
   "cell_type": "markdown",
   "id": "thermal-judges",
   "metadata": {
    "papermill": {
     "duration": 0.073142,
     "end_time": "2021-05-25T11:07:07.502130",
     "exception": false,
     "start_time": "2021-05-25T11:07:07.428988",
     "status": "completed"
    },
    "tags": []
   },
   "source": [
    "### Looking at feature term"
   ]
  },
  {
   "cell_type": "markdown",
   "id": "welsh-enzyme",
   "metadata": {
    "papermill": {
     "duration": 0.073346,
     "end_time": "2021-05-25T11:07:07.649178",
     "exception": false,
     "start_time": "2021-05-25T11:07:07.575832",
     "status": "completed"
    },
    "tags": []
   },
   "source": [
    "As we can see there are only two possible values for the term on Lending Club, i.e. 36 months or 60 months."
   ]
  },
  {
   "cell_type": "code",
   "execution_count": 15,
   "id": "working-recipe",
   "metadata": {
    "execution": {
     "iopub.execute_input": "2021-05-25T11:07:08.063257Z",
     "iopub.status.busy": "2021-05-25T11:07:07.946737Z",
     "iopub.status.idle": "2021-05-25T11:07:08.198473Z",
     "shell.execute_reply": "2021-05-25T11:07:08.197459Z",
     "shell.execute_reply.started": "2021-05-25T11:01:49.249299Z"
    },
    "papermill": {
     "duration": 0.475286,
     "end_time": "2021-05-25T11:07:08.198620",
     "exception": false,
     "start_time": "2021-05-25T11:07:07.723334",
     "status": "completed"
    },
    "tags": []
   },
   "outputs": [
    {
     "data": {
      "text/plain": [
       "<AxesSubplot:title={'center':'value counts'}>"
      ]
     },
     "execution_count": 15,
     "metadata": {},
     "output_type": "execute_result"
    },
    {
     "data": {
      "image/png": "[encoded data removed]",
      "text/plain": [
       "<Figure size 432x288 with 1 Axes>"
      ]
     },
     "metadata": {
      "needs_background": "light"
     },
     "output_type": "display_data"
    }
   ],
   "source": [
    "(df['term'].value_counts()/len(df)).plot.bar(title='value counts')"
   ]
  },
  {
   "cell_type": "markdown",
   "id": "discrete-satin",
   "metadata": {
    "papermill": {
     "duration": 0.074205,
     "end_time": "2021-05-25T11:07:08.347195",
     "exception": false,
     "start_time": "2021-05-25T11:07:08.272990",
     "status": "completed"
    },
    "tags": []
   },
   "source": [
    "The accounts with a higher term have a significant higher default rate."
   ]
  },
  {
   "cell_type": "code",
   "execution_count": 16,
   "id": "political-wonder",
   "metadata": {
    "execution": {
     "iopub.execute_input": "2021-05-25T11:07:08.502145Z",
     "iopub.status.busy": "2021-05-25T11:07:08.501452Z",
     "iopub.status.idle": "2021-05-25T11:07:08.732367Z",
     "shell.execute_reply": "2021-05-25T11:07:08.731805Z",
     "shell.execute_reply.started": "2021-05-25T11:01:52.830712Z"
    },
    "papermill": {
     "duration": 0.310864,
     "end_time": "2021-05-25T11:07:08.732504",
     "exception": false,
     "start_time": "2021-05-25T11:07:08.421640",
     "status": "completed"
    },
    "tags": []
   },
   "outputs": [
    {
     "data": {
      "text/plain": [
       "<AxesSubplot:title={'center':'default rate'}, xlabel='term'>"
      ]
     },
     "execution_count": 16,
     "metadata": {},
     "output_type": "execute_result"
    },
    {
     "data": {
      "image/png": "[encoded data removed]",
      "text/plain": [
       "<Figure size 432x288 with 1 Axes>"
      ]
     },
     "metadata": {
      "needs_background": "light"
     },
     "output_type": "display_data"
    }
   ],
   "source": [
    "df.groupby('term')['loan_status_bin'].mean().plot.bar(title='default rate')"
   ]
  },
  {
   "cell_type": "markdown",
   "id": "changing-story",
   "metadata": {
    "papermill": {
     "duration": 0.074786,
     "end_time": "2021-05-25T11:07:08.883766",
     "exception": false,
     "start_time": "2021-05-25T11:07:08.808980",
     "status": "completed"
    },
    "tags": []
   },
   "source": [
    "### Looking at feature homeownership"
   ]
  },
  {
   "cell_type": "markdown",
   "id": "exotic-crystal",
   "metadata": {
    "papermill": {
     "duration": 0.076423,
     "end_time": "2021-05-25T11:07:09.039953",
     "exception": false,
     "start_time": "2021-05-25T11:07:08.963530",
     "status": "completed"
    },
    "tags": []
   },
   "source": [
    "Doing the same with homeownership, the distribution among accounts is as follows"
   ]
  },
  {
   "cell_type": "code",
   "execution_count": 17,
   "id": "utility-attachment",
   "metadata": {
    "execution": {
     "iopub.execute_input": "2021-05-25T11:07:09.459304Z",
     "iopub.status.busy": "2021-05-25T11:07:09.458514Z",
     "iopub.status.idle": "2021-05-25T11:07:09.596715Z",
     "shell.execute_reply": "2021-05-25T11:07:09.597200Z",
     "shell.execute_reply.started": "2021-05-25T11:01:55.548811Z"
    },
    "papermill": {
     "duration": 0.480393,
     "end_time": "2021-05-25T11:07:09.597380",
     "exception": false,
     "start_time": "2021-05-25T11:07:09.116987",
     "status": "completed"
    },
    "tags": []
   },
   "outputs": [
    {
     "data": {
      "text/plain": [
       "<AxesSubplot:title={'center':'value counts'}>"
      ]
     },
     "execution_count": 17,
     "metadata": {},
     "output_type": "execute_result"
    },
    {
     "data": {
      "image/png": "[encoded data removed]",
      "text/plain": [
       "<Figure size 432x288 with 1 Axes>"
      ]
     },
     "metadata": {
      "needs_background": "light"
     },
     "output_type": "display_data"
    }
   ],
   "source": [
    "(df['home_ownership'].value_counts()/len(df)).plot.bar(title='value counts')"
   ]
  },
  {
   "cell_type": "markdown",
   "id": "published-expense",
   "metadata": {
    "papermill": {
     "duration": 0.076724,
     "end_time": "2021-05-25T11:07:09.750825",
     "exception": false,
     "start_time": "2021-05-25T11:07:09.674101",
     "status": "completed"
    },
    "tags": []
   },
   "source": [
    "We can see that the default is higher in people who rent or own when compared to mortagage"
   ]
  },
  {
   "cell_type": "code",
   "execution_count": 18,
   "id": "strategic-farming",
   "metadata": {
    "execution": {
     "iopub.execute_input": "2021-05-25T11:07:10.249919Z",
     "iopub.status.busy": "2021-05-25T11:07:10.249238Z",
     "iopub.status.idle": "2021-05-25T11:07:12.575623Z",
     "shell.execute_reply": "2021-05-25T11:07:12.575071Z",
     "shell.execute_reply.started": "2021-05-25T11:02:03.055025Z"
    },
    "papermill": {
     "duration": 2.74774,
     "end_time": "2021-05-25T11:07:12.575782",
     "exception": false,
     "start_time": "2021-05-25T11:07:09.828042",
     "status": "completed"
    },
    "tags": []
   },
   "outputs": [
    {
     "data": {
      "text/plain": [
       "<AxesSubplot:title={'center':'default rate'}, xlabel='home_ownership'>"
      ]
     },
     "execution_count": 18,
     "metadata": {},
     "output_type": "execute_result"
    },
    {
     "data": {
      "image/png": "[encoded data removed]",
      "text/plain": [
       "<Figure size 432x288 with 1 Axes>"
      ]
     },
     "metadata": {
      "needs_background": "light"
     },
     "output_type": "display_data"
    }
   ],
   "source": [
    "df[(df['home_ownership']=='MORTGAGE') | (df['home_ownership']=='OWN')| (df['home_ownership']=='RENT')].groupby('home_ownership')['loan_status_bin'].mean().plot.bar(title='default rate')"
   ]
  },
  {
   "cell_type": "markdown",
   "id": "weighted-belgium",
   "metadata": {
    "papermill": {
     "duration": 0.077852,
     "end_time": "2021-05-25T11:07:12.731991",
     "exception": false,
     "start_time": "2021-05-25T11:07:12.654139",
     "status": "completed"
    },
    "tags": []
   },
   "source": [
    "### Looking at feature FICO score"
   ]
  },
  {
   "cell_type": "markdown",
   "id": "caring-rebate",
   "metadata": {
    "papermill": {
     "duration": 0.077311,
     "end_time": "2021-05-25T11:07:12.886843",
     "exception": false,
     "start_time": "2021-05-25T11:07:12.809532",
     "status": "completed"
    },
    "tags": []
   },
   "source": [
    "Taking a look at the fico score, we can see that most of out customers are in the FICO range 600-750"
   ]
  },
  {
   "cell_type": "code",
   "execution_count": 19,
   "id": "reverse-plant",
   "metadata": {
    "execution": {
     "iopub.execute_input": "2021-05-25T11:07:13.048933Z",
     "iopub.status.busy": "2021-05-25T11:07:13.048219Z",
     "iopub.status.idle": "2021-05-25T11:07:13.361136Z",
     "shell.execute_reply": "2021-05-25T11:07:13.360590Z",
     "shell.execute_reply.started": "2021-05-25T11:02:09.693447Z"
    },
    "papermill": {
     "duration": 0.395344,
     "end_time": "2021-05-25T11:07:13.361283",
     "exception": false,
     "start_time": "2021-05-25T11:07:12.965939",
     "status": "completed"
    },
    "tags": []
   },
   "outputs": [
    {
     "data": {
      "text/plain": [
       "<AxesSubplot:title={'center':'FICO-Score'}, ylabel='Frequency'>"
      ]
     },
     "execution_count": 19,
     "metadata": {},
     "output_type": "execute_result"
    },
    {
     "data": {
      "image/png": "[encoded data removed]",
      "text/plain": [
       "<Figure size 432x288 with 1 Axes>"
      ]
     },
     "metadata": {
      "needs_background": "light"
     },
     "output_type": "display_data"
    }
   ],
   "source": [
    "df['fico_range_high'].plot.hist(bins=20, title='FICO-Score', rwidth=0.9)"
   ]
  },
  {
   "cell_type": "markdown",
   "id": "provincial-lemon",
   "metadata": {
    "papermill": {
     "duration": 0.078085,
     "end_time": "2021-05-25T11:07:13.517935",
     "exception": false,
     "start_time": "2021-05-25T11:07:13.439850",
     "status": "completed"
    },
    "tags": []
   },
   "source": [
    "### Looking at feature installment"
   ]
  },
  {
   "cell_type": "markdown",
   "id": "metallic-football",
   "metadata": {
    "papermill": {
     "duration": 0.0783,
     "end_time": "2021-05-25T11:07:13.675057",
     "exception": false,
     "start_time": "2021-05-25T11:07:13.596757",
     "status": "completed"
    },
    "tags": []
   },
   "source": [
    "Also looking at the distribution for installment"
   ]
  },
  {
   "cell_type": "code",
   "execution_count": 20,
   "id": "willing-sense",
   "metadata": {
    "execution": {
     "iopub.execute_input": "2021-05-25T11:07:13.838466Z",
     "iopub.status.busy": "2021-05-25T11:07:13.837777Z",
     "iopub.status.idle": "2021-05-25T11:07:14.244900Z",
     "shell.execute_reply": "2021-05-25T11:07:14.244249Z",
     "shell.execute_reply.started": "2021-05-25T11:02:13.155974Z"
    },
    "papermill": {
     "duration": 0.490449,
     "end_time": "2021-05-25T11:07:14.245041",
     "exception": false,
     "start_time": "2021-05-25T11:07:13.754592",
     "status": "completed"
    },
    "tags": []
   },
   "outputs": [
    {
     "data": {
      "text/plain": [
       "<AxesSubplot:title={'center':'installment'}, ylabel='Frequency'>"
      ]
     },
     "execution_count": 20,
     "metadata": {},
     "output_type": "execute_result"
    },
    {
     "data": {
      "image/png": "[encoded data removed]",
      "text/plain": [
       "<Figure size 432x288 with 1 Axes>"
      ]
     },
     "metadata": {
      "needs_background": "light"
     },
     "output_type": "display_data"
    }
   ],
   "source": [
    "df['installment'].plot.hist(bins=40, title='installment', rwidth=0.85)"
   ]
  },
  {
   "cell_type": "markdown",
   "id": "comparative-thirty",
   "metadata": {
    "papermill": {
     "duration": 0.078962,
     "end_time": "2021-05-25T11:07:14.403477",
     "exception": false,
     "start_time": "2021-05-25T11:07:14.324515",
     "status": "completed"
    },
    "tags": []
   },
   "source": [
    "# Looking at the linear relationship between interest rates and default rates for a particular grade"
   ]
  },
  {
   "cell_type": "markdown",
   "id": "abroad-offering",
   "metadata": {
    "papermill": {
     "duration": 0.078841,
     "end_time": "2021-05-25T11:07:14.561524",
     "exception": false,
     "start_time": "2021-05-25T11:07:14.482683",
     "status": "completed"
    },
    "tags": []
   },
   "source": [
    "As said before there seems to be a linear connection between the interest rate and the default rate. We will use Linear Regression to calculate the linear function that maps from the default rate to the interest rate."
   ]
  },
  {
   "cell_type": "code",
   "execution_count": 21,
   "id": "associate-meaning",
   "metadata": {
    "execution": {
     "iopub.execute_input": "2021-05-25T11:07:14.725700Z",
     "iopub.status.busy": "2021-05-25T11:07:14.724889Z",
     "iopub.status.idle": "2021-05-25T11:07:16.114966Z",
     "shell.execute_reply": "2021-05-25T11:07:16.114340Z",
     "shell.execute_reply.started": "2021-05-25T11:02:19.081349Z"
    },
    "papermill": {
     "duration": 1.474508,
     "end_time": "2021-05-25T11:07:16.115110",
     "exception": false,
     "start_time": "2021-05-25T11:07:14.640602",
     "status": "completed"
    },
    "tags": []
   },
   "outputs": [
    {
     "data": {
      "text/plain": [
       "LinearRegression()"
      ]
     },
     "execution_count": 21,
     "metadata": {},
     "output_type": "execute_result"
    }
   ],
   "source": [
    "from sklearn.linear_model import LinearRegression\n",
    "lr = LinearRegression()\n",
    "lr.fit(df.groupby('sub_grade')['loan_status_bin'].mean().values.reshape(-1,1), y=df.groupby('sub_grade')['int_rate'].mean())"
   ]
  },
  {
   "cell_type": "code",
   "execution_count": 22,
   "id": "dense-layer",
   "metadata": {
    "execution": {
     "iopub.execute_input": "2021-05-25T11:07:16.285171Z",
     "iopub.status.busy": "2021-05-25T11:07:16.284194Z",
     "iopub.status.idle": "2021-05-25T11:07:16.817236Z",
     "shell.execute_reply": "2021-05-25T11:07:16.816608Z",
     "shell.execute_reply.started": "2021-05-25T11:02:23.218629Z"
    },
    "papermill": {
     "duration": 0.620578,
     "end_time": "2021-05-25T11:07:16.817372",
     "exception": false,
     "start_time": "2021-05-25T11:07:16.196794",
     "status": "completed"
    },
    "tags": []
   },
   "outputs": [
    {
     "data": {
      "text/plain": [
       "Text(0, 0.5, 'interest rate')"
      ]
     },
     "execution_count": 22,
     "metadata": {},
     "output_type": "execute_result"
    },
    {
     "data": {
      "image/png": "[encoded data removed]",
      "text/plain": [
       "<Figure size 432x288 with 1 Axes>"
      ]
     },
     "metadata": {
      "needs_background": "light"
     },
     "output_type": "display_data"
    }
   ],
   "source": [
    "import matplotlib.pyplot as plt\n",
    "plt.scatter(df.groupby('sub_grade')['loan_status_bin'].mean(), df.groupby('sub_grade')['int_rate'].mean())\n",
    "plt.plot(df.groupby('sub_grade')['loan_status_bin'].mean(), lr.predict(df.groupby('sub_grade')['loan_status_bin'].mean().values.reshape(-1,1)))\n",
    "plt.xlabel('default rate')\n",
    "plt.ylabel('interest rate')"
   ]
  },
  {
   "cell_type": "code",
   "execution_count": 23,
   "id": "strategic-landscape",
   "metadata": {
    "execution": {
     "iopub.execute_input": "2021-05-25T11:07:16.986523Z",
     "iopub.status.busy": "2021-05-25T11:07:16.985867Z",
     "iopub.status.idle": "2021-05-25T11:07:16.991070Z",
     "shell.execute_reply": "2021-05-25T11:07:16.990079Z",
     "shell.execute_reply.started": "2021-05-25T11:02:30.465042Z"
    },
    "papermill": {
     "duration": 0.092614,
     "end_time": "2021-05-25T11:07:16.991245",
     "exception": false,
     "start_time": "2021-05-25T11:07:16.898631",
     "status": "completed"
    },
    "tags": []
   },
   "outputs": [
    {
     "name": "stdout",
     "output_type": "stream",
     "text": [
      "interest rate =  4.1683661690729 + 45.68477614996916 * default rate\n"
     ]
    }
   ],
   "source": [
    "print('interest rate = ', lr.intercept_, '+', lr.coef_[0], '* default rate')"
   ]
  },
  {
   "cell_type": "markdown",
   "id": "specified-breathing",
   "metadata": {
    "papermill": {
     "duration": 0.082093,
     "end_time": "2021-05-25T11:07:17.155168",
     "exception": false,
     "start_time": "2021-05-25T11:07:17.073075",
     "status": "completed"
    },
    "tags": []
   },
   "source": [
    "From the above linear relation, we can see that when even in the same grade, if given a higher interest rate people are more likely to default when compared to a lower interest rate"
   ]
  },
  {
   "cell_type": "markdown",
   "id": "dependent-catalyst",
   "metadata": {
    "papermill": {
     "duration": 0.081207,
     "end_time": "2021-05-25T11:07:17.319387",
     "exception": false,
     "start_time": "2021-05-25T11:07:17.238180",
     "status": "completed"
    },
    "tags": []
   },
   "source": [
    "# Traning the Logisitic Regression for PD model"
   ]
  },
  {
   "cell_type": "markdown",
   "id": "partial-documentary",
   "metadata": {
    "papermill": {
     "duration": 0.081471,
     "end_time": "2021-05-25T11:07:17.482727",
     "exception": false,
     "start_time": "2021-05-25T11:07:17.401256",
     "status": "completed"
    },
    "tags": []
   },
   "source": [
    "Reduce the dataset to the following columns that are known to investors **before** the loan is funded."
   ]
  },
  {
   "cell_type": "code",
   "execution_count": 24,
   "id": "superb-hollywood",
   "metadata": {
    "execution": {
     "iopub.execute_input": "2021-05-25T11:07:17.679865Z",
     "iopub.status.busy": "2021-05-25T11:07:17.679157Z",
     "iopub.status.idle": "2021-05-25T11:07:17.734781Z",
     "shell.execute_reply": "2021-05-25T11:07:17.734215Z",
     "shell.execute_reply.started": "2021-05-25T11:02:38.247550Z"
    },
    "papermill": {
     "duration": 0.17046,
     "end_time": "2021-05-25T11:07:17.734934",
     "exception": false,
     "start_time": "2021-05-25T11:07:17.564474",
     "status": "completed"
    },
    "tags": []
   },
   "outputs": [],
   "source": [
    "columns = ['loan_amnt', 'term', 'int_rate',\n",
    "       'installment', 'grade', 'emp_length',\n",
    "       'home_ownership', 'annual_inc_log', 'verification_status',\n",
    "       'loan_status_bin', 'purpose',\n",
    "       'addr_state', 'dti', 'delinq_2yrs',\n",
    "       'fico_range_low', 'inq_last_6mths', 'open_acc',\n",
    "       'pub_rec', 'revol_bal', 'revol_util', 'total_acc']\n",
    "df = df[columns]"
   ]
  },
  {
   "cell_type": "markdown",
   "id": "disabled-queensland",
   "metadata": {
    "papermill": {
     "duration": 0.081285,
     "end_time": "2021-05-25T11:07:17.898738",
     "exception": false,
     "start_time": "2021-05-25T11:07:17.817453",
     "status": "completed"
    },
    "tags": []
   },
   "source": [
    "Drop all rows that contain null-values."
   ]
  },
  {
   "cell_type": "code",
   "execution_count": 25,
   "id": "relevant-seller",
   "metadata": {
    "execution": {
     "iopub.execute_input": "2021-05-25T11:07:18.068474Z",
     "iopub.status.busy": "2021-05-25T11:07:18.067806Z",
     "iopub.status.idle": "2021-05-25T11:07:19.061349Z",
     "shell.execute_reply": "2021-05-25T11:07:19.060791Z",
     "shell.execute_reply.started": "2021-05-25T11:02:41.228852Z"
    },
    "papermill": {
     "duration": 1.080803,
     "end_time": "2021-05-25T11:07:19.061503",
     "exception": false,
     "start_time": "2021-05-25T11:07:17.980700",
     "status": "completed"
    },
    "tags": []
   },
   "outputs": [],
   "source": [
    "df.dropna(inplace=True)"
   ]
  },
  {
   "cell_type": "markdown",
   "id": "through-seattle",
   "metadata": {
    "papermill": {
     "duration": 0.08181,
     "end_time": "2021-05-25T11:07:19.225646",
     "exception": false,
     "start_time": "2021-05-25T11:07:19.143836",
     "status": "completed"
    },
    "tags": []
   },
   "source": [
    "Transform the grade into numerical values."
   ]
  },
  {
   "cell_type": "code",
   "execution_count": 26,
   "id": "lightweight-merchant",
   "metadata": {
    "execution": {
     "iopub.execute_input": "2021-05-25T11:07:19.486932Z",
     "iopub.status.busy": "2021-05-25T11:07:19.410626Z",
     "iopub.status.idle": "2021-05-25T11:07:19.531574Z",
     "shell.execute_reply": "2021-05-25T11:07:19.531043Z",
     "shell.execute_reply.started": "2021-05-25T11:02:44.529036Z"
    },
    "papermill": {
     "duration": 0.224643,
     "end_time": "2021-05-25T11:07:19.531737",
     "exception": false,
     "start_time": "2021-05-25T11:07:19.307094",
     "status": "completed"
    },
    "tags": []
   },
   "outputs": [],
   "source": [
    "df['grade']=df['grade'].map({'A': 1, 'B': 2, 'C': 3, 'D': 4, 'E': 5, 'F': 6, 'G': 7})"
   ]
  },
  {
   "cell_type": "markdown",
   "id": "dangerous-chart",
   "metadata": {
    "papermill": {
     "duration": 0.080839,
     "end_time": "2021-05-25T11:07:19.693810",
     "exception": false,
     "start_time": "2021-05-25T11:07:19.612971",
     "status": "completed"
    },
    "tags": []
   },
   "source": [
    "Get the dummy-variables for categorical features."
   ]
  },
  {
   "cell_type": "code",
   "execution_count": 27,
   "id": "foreign-winner",
   "metadata": {
    "execution": {
     "iopub.execute_input": "2021-05-25T11:07:19.865138Z",
     "iopub.status.busy": "2021-05-25T11:07:19.864482Z",
     "iopub.status.idle": "2021-05-25T11:07:20.928570Z",
     "shell.execute_reply": "2021-05-25T11:07:20.928046Z",
     "shell.execute_reply.started": "2021-05-25T11:02:47.025674Z"
    },
    "papermill": {
     "duration": 1.151812,
     "end_time": "2021-05-25T11:07:20.928734",
     "exception": false,
     "start_time": "2021-05-25T11:07:19.776922",
     "status": "completed"
    },
    "tags": []
   },
   "outputs": [],
   "source": [
    "df_dummies = pd.get_dummies(df)"
   ]
  },
  {
   "cell_type": "markdown",
   "id": "hawaiian-hungary",
   "metadata": {
    "papermill": {
     "duration": 0.081921,
     "end_time": "2021-05-25T11:07:21.097286",
     "exception": false,
     "start_time": "2021-05-25T11:07:21.015365",
     "status": "completed"
    },
    "tags": []
   },
   "source": [
    "We are going to drop all dummy-variables which contain not at least 1% ones. In this case we can simply look at the mean of the features because all non-dummy variables have means greater than 0.01.\n",
    "\n"
   ]
  },
  {
   "cell_type": "code",
   "execution_count": 28,
   "id": "pacific-frederick",
   "metadata": {
    "execution": {
     "iopub.execute_input": "2021-05-25T11:07:21.266993Z",
     "iopub.status.busy": "2021-05-25T11:07:21.266226Z",
     "iopub.status.idle": "2021-05-25T11:07:21.583978Z",
     "shell.execute_reply": "2021-05-25T11:07:21.583418Z",
     "shell.execute_reply.started": "2021-05-25T11:02:50.507693Z"
    },
    "papermill": {
     "duration": 0.404588,
     "end_time": "2021-05-25T11:07:21.584135",
     "exception": false,
     "start_time": "2021-05-25T11:07:21.179547",
     "status": "completed"
    },
    "tags": []
   },
   "outputs": [],
   "source": [
    "drop_columns = df_dummies.columns[(df_dummies.mean()<0.01)]\n",
    "df_dummies.drop(drop_columns, axis=1, inplace=True)"
   ]
  },
  {
   "cell_type": "markdown",
   "id": "connected-accent",
   "metadata": {
    "papermill": {
     "duration": 0.081249,
     "end_time": "2021-05-25T11:07:21.746601",
     "exception": false,
     "start_time": "2021-05-25T11:07:21.665352",
     "status": "completed"
    },
    "tags": []
   },
   "source": [
    "Add the two different verification status variables that indicate verified to one variable."
   ]
  },
  {
   "cell_type": "code",
   "execution_count": 29,
   "id": "dietary-community",
   "metadata": {
    "execution": {
     "iopub.execute_input": "2021-05-25T11:07:21.915792Z",
     "iopub.status.busy": "2021-05-25T11:07:21.915124Z",
     "iopub.status.idle": "2021-05-25T11:07:22.032413Z",
     "shell.execute_reply": "2021-05-25T11:07:22.031395Z",
     "shell.execute_reply.started": "2021-05-25T11:02:53.005450Z"
    },
    "papermill": {
     "duration": 0.203724,
     "end_time": "2021-05-25T11:07:22.032607",
     "exception": false,
     "start_time": "2021-05-25T11:07:21.828883",
     "status": "completed"
    },
    "tags": []
   },
   "outputs": [],
   "source": [
    "df_dummies['verification_status_Verified_sum'] = df_dummies['verification_status_Source Verified']+df_dummies['verification_status_Verified']\n",
    "df_dummies.drop(['verification_status_Source Verified', 'verification_status_Verified'], axis=1, inplace=True)"
   ]
  },
  {
   "cell_type": "markdown",
   "id": "continental-review",
   "metadata": {
    "papermill": {
     "duration": 0.084126,
     "end_time": "2021-05-25T11:07:22.209772",
     "exception": false,
     "start_time": "2021-05-25T11:07:22.125646",
     "status": "completed"
    },
    "tags": []
   },
   "source": [
    "The transformed dataset looks like this"
   ]
  },
  {
   "cell_type": "code",
   "execution_count": 30,
   "id": "rural-permission",
   "metadata": {
    "execution": {
     "iopub.execute_input": "2021-05-25T11:07:22.380725Z",
     "iopub.status.busy": "2021-05-25T11:07:22.379685Z",
     "iopub.status.idle": "2021-05-25T11:07:22.407271Z",
     "shell.execute_reply": "2021-05-25T11:07:22.407862Z",
     "shell.execute_reply.started": "2021-05-25T11:02:59.539214Z"
    },
    "papermill": {
     "duration": 0.114486,
     "end_time": "2021-05-25T11:07:22.408038",
     "exception": false,
     "start_time": "2021-05-25T11:07:22.293552",
     "status": "completed"
    },
    "tags": []
   },
   "outputs": [
    {
     "data": {
      "text/html": [
       "<div>\n",
       "<style scoped>\n",
       "    .dataframe tbody tr th:only-of-type {\n",
       "        vertical-align: middle;\n",
       "    }\n",
       "\n",
       "    .dataframe tbody tr th {\n",
       "        vertical-align: top;\n",
       "    }\n",
       "\n",
       "    .dataframe thead th {\n",
       "        text-align: right;\n",
       "    }\n",
       "</style>\n",
       "<table border=\"1\" class=\"dataframe\">\n",
       "  <thead>\n",
       "    <tr style=\"text-align: right;\">\n",
       "      <th></th>\n",
       "      <th>loan_amnt</th>\n",
       "      <th>int_rate</th>\n",
       "      <th>installment</th>\n",
       "      <th>grade</th>\n",
       "      <th>annual_inc_log</th>\n",
       "      <th>loan_status_bin</th>\n",
       "      <th>dti</th>\n",
       "      <th>delinq_2yrs</th>\n",
       "      <th>fico_range_low</th>\n",
       "      <th>inq_last_6mths</th>\n",
       "      <th>...</th>\n",
       "      <th>addr_state_OH</th>\n",
       "      <th>addr_state_OR</th>\n",
       "      <th>addr_state_PA</th>\n",
       "      <th>addr_state_SC</th>\n",
       "      <th>addr_state_TN</th>\n",
       "      <th>addr_state_TX</th>\n",
       "      <th>addr_state_VA</th>\n",
       "      <th>addr_state_WA</th>\n",
       "      <th>addr_state_WI</th>\n",
       "      <th>verification_status_Verified_sum</th>\n",
       "    </tr>\n",
       "  </thead>\n",
       "  <tbody>\n",
       "    <tr>\n",
       "      <th>0</th>\n",
       "      <td>3600.0</td>\n",
       "      <td>13.99</td>\n",
       "      <td>123.03</td>\n",
       "      <td>3</td>\n",
       "      <td>10.915088</td>\n",
       "      <td>0</td>\n",
       "      <td>5.91</td>\n",
       "      <td>0.0</td>\n",
       "      <td>675.0</td>\n",
       "      <td>1.0</td>\n",
       "      <td>...</td>\n",
       "      <td>0</td>\n",
       "      <td>0</td>\n",
       "      <td>1</td>\n",
       "      <td>0</td>\n",
       "      <td>0</td>\n",
       "      <td>0</td>\n",
       "      <td>0</td>\n",
       "      <td>0</td>\n",
       "      <td>0</td>\n",
       "      <td>0</td>\n",
       "    </tr>\n",
       "    <tr>\n",
       "      <th>1</th>\n",
       "      <td>24700.0</td>\n",
       "      <td>11.99</td>\n",
       "      <td>820.28</td>\n",
       "      <td>3</td>\n",
       "      <td>11.082143</td>\n",
       "      <td>0</td>\n",
       "      <td>16.06</td>\n",
       "      <td>1.0</td>\n",
       "      <td>715.0</td>\n",
       "      <td>4.0</td>\n",
       "      <td>...</td>\n",
       "      <td>0</td>\n",
       "      <td>0</td>\n",
       "      <td>0</td>\n",
       "      <td>0</td>\n",
       "      <td>0</td>\n",
       "      <td>0</td>\n",
       "      <td>0</td>\n",
       "      <td>0</td>\n",
       "      <td>0</td>\n",
       "      <td>0</td>\n",
       "    </tr>\n",
       "    <tr>\n",
       "      <th>2</th>\n",
       "      <td>20000.0</td>\n",
       "      <td>10.78</td>\n",
       "      <td>432.66</td>\n",
       "      <td>2</td>\n",
       "      <td>11.050890</td>\n",
       "      <td>0</td>\n",
       "      <td>10.78</td>\n",
       "      <td>0.0</td>\n",
       "      <td>695.0</td>\n",
       "      <td>0.0</td>\n",
       "      <td>...</td>\n",
       "      <td>0</td>\n",
       "      <td>0</td>\n",
       "      <td>0</td>\n",
       "      <td>0</td>\n",
       "      <td>0</td>\n",
       "      <td>0</td>\n",
       "      <td>0</td>\n",
       "      <td>0</td>\n",
       "      <td>0</td>\n",
       "      <td>0</td>\n",
       "    </tr>\n",
       "    <tr>\n",
       "      <th>4</th>\n",
       "      <td>10400.0</td>\n",
       "      <td>22.45</td>\n",
       "      <td>289.91</td>\n",
       "      <td>6</td>\n",
       "      <td>11.556301</td>\n",
       "      <td>0</td>\n",
       "      <td>25.37</td>\n",
       "      <td>1.0</td>\n",
       "      <td>695.0</td>\n",
       "      <td>3.0</td>\n",
       "      <td>...</td>\n",
       "      <td>0</td>\n",
       "      <td>0</td>\n",
       "      <td>1</td>\n",
       "      <td>0</td>\n",
       "      <td>0</td>\n",
       "      <td>0</td>\n",
       "      <td>0</td>\n",
       "      <td>0</td>\n",
       "      <td>0</td>\n",
       "      <td>1</td>\n",
       "    </tr>\n",
       "    <tr>\n",
       "      <th>5</th>\n",
       "      <td>11950.0</td>\n",
       "      <td>13.44</td>\n",
       "      <td>405.18</td>\n",
       "      <td>3</td>\n",
       "      <td>10.434116</td>\n",
       "      <td>0</td>\n",
       "      <td>10.20</td>\n",
       "      <td>0.0</td>\n",
       "      <td>690.0</td>\n",
       "      <td>0.0</td>\n",
       "      <td>...</td>\n",
       "      <td>0</td>\n",
       "      <td>0</td>\n",
       "      <td>0</td>\n",
       "      <td>0</td>\n",
       "      <td>0</td>\n",
       "      <td>0</td>\n",
       "      <td>0</td>\n",
       "      <td>0</td>\n",
       "      <td>0</td>\n",
       "      <td>1</td>\n",
       "    </tr>\n",
       "  </tbody>\n",
       "</table>\n",
       "<p>5 rows × 69 columns</p>\n",
       "</div>"
      ],
      "text/plain": [
       "   loan_amnt  int_rate  installment  grade  annual_inc_log  loan_status_bin  \\\n",
       "0     3600.0     13.99       123.03      3       10.915088                0   \n",
       "1    24700.0     11.99       820.28      3       11.082143                0   \n",
       "2    20000.0     10.78       432.66      2       11.050890                0   \n",
       "4    10400.0     22.45       289.91      6       11.556301                0   \n",
       "5    11950.0     13.44       405.18      3       10.434116                0   \n",
       "\n",
       "     dti  delinq_2yrs  fico_range_low  inq_last_6mths  ...  addr_state_OH  \\\n",
       "0   5.91          0.0           675.0             1.0  ...              0   \n",
       "1  16.06          1.0           715.0             4.0  ...              0   \n",
       "2  10.78          0.0           695.0             0.0  ...              0   \n",
       "4  25.37          1.0           695.0             3.0  ...              0   \n",
       "5  10.20          0.0           690.0             0.0  ...              0   \n",
       "\n",
       "   addr_state_OR  addr_state_PA  addr_state_SC  addr_state_TN  addr_state_TX  \\\n",
       "0              0              1              0              0              0   \n",
       "1              0              0              0              0              0   \n",
       "2              0              0              0              0              0   \n",
       "4              0              1              0              0              0   \n",
       "5              0              0              0              0              0   \n",
       "\n",
       "   addr_state_VA  addr_state_WA  addr_state_WI  \\\n",
       "0              0              0              0   \n",
       "1              0              0              0   \n",
       "2              0              0              0   \n",
       "4              0              0              0   \n",
       "5              0              0              0   \n",
       "\n",
       "   verification_status_Verified_sum  \n",
       "0                                 0  \n",
       "1                                 0  \n",
       "2                                 0  \n",
       "4                                 1  \n",
       "5                                 1  \n",
       "\n",
       "[5 rows x 69 columns]"
      ]
     },
     "execution_count": 30,
     "metadata": {},
     "output_type": "execute_result"
    }
   ],
   "source": [
    "df_dummies.head()"
   ]
  },
  {
   "cell_type": "markdown",
   "id": "endless-vacation",
   "metadata": {
    "papermill": {
     "duration": 0.082185,
     "end_time": "2021-05-25T11:07:22.572834",
     "exception": false,
     "start_time": "2021-05-25T11:07:22.490649",
     "status": "completed"
    },
    "tags": []
   },
   "source": [
    "Seperate features from targets."
   ]
  },
  {
   "cell_type": "code",
   "execution_count": 31,
   "id": "automotive-stress",
   "metadata": {
    "execution": {
     "iopub.execute_input": "2021-05-25T11:07:22.743691Z",
     "iopub.status.busy": "2021-05-25T11:07:22.742638Z",
     "iopub.status.idle": "2021-05-25T11:07:22.821482Z",
     "shell.execute_reply": "2021-05-25T11:07:22.820774Z",
     "shell.execute_reply.started": "2021-05-25T11:03:02.079928Z"
    },
    "papermill": {
     "duration": 0.166378,
     "end_time": "2021-05-25T11:07:22.821628",
     "exception": false,
     "start_time": "2021-05-25T11:07:22.655250",
     "status": "completed"
    },
    "tags": []
   },
   "outputs": [],
   "source": [
    "X = df_dummies.drop('loan_status_bin', axis=1)\n",
    "y = df_dummies['loan_status_bin']"
   ]
  },
  {
   "cell_type": "markdown",
   "id": "dimensional-organizer",
   "metadata": {
    "papermill": {
     "duration": 0.084011,
     "end_time": "2021-05-25T11:07:22.992734",
     "exception": false,
     "start_time": "2021-05-25T11:07:22.908723",
     "status": "completed"
    },
    "tags": []
   },
   "source": [
    "Split the data into training and testing data."
   ]
  },
  {
   "cell_type": "code",
   "execution_count": 32,
   "id": "alert-mandate",
   "metadata": {
    "execution": {
     "iopub.execute_input": "2021-05-25T11:07:23.164270Z",
     "iopub.status.busy": "2021-05-25T11:07:23.163584Z",
     "iopub.status.idle": "2021-05-25T11:07:24.067584Z",
     "shell.execute_reply": "2021-05-25T11:07:24.067005Z",
     "shell.execute_reply.started": "2021-05-25T11:03:04.347884Z"
    },
    "papermill": {
     "duration": 0.992644,
     "end_time": "2021-05-25T11:07:24.067762",
     "exception": false,
     "start_time": "2021-05-25T11:07:23.075118",
     "status": "completed"
    },
    "tags": []
   },
   "outputs": [],
   "source": [
    "from sklearn.model_selection import train_test_split\n",
    "X_train, X_test, y_train, y_test = train_test_split(X, y, test_size=0.2, random_state=0)"
   ]
  },
  {
   "cell_type": "markdown",
   "id": "mature-extension",
   "metadata": {
    "papermill": {
     "duration": 0.084178,
     "end_time": "2021-05-25T11:07:24.237479",
     "exception": false,
     "start_time": "2021-05-25T11:07:24.153301",
     "status": "completed"
    },
    "tags": []
   },
   "source": [
    "Set up the pipeline. We will use L1 -penalty for built-in feature selection"
   ]
  },
  {
   "cell_type": "code",
   "execution_count": 33,
   "id": "initial-infrastructure",
   "metadata": {
    "execution": {
     "iopub.execute_input": "2021-05-25T11:07:24.410872Z",
     "iopub.status.busy": "2021-05-25T11:07:24.410108Z",
     "iopub.status.idle": "2021-05-25T11:07:24.416323Z",
     "shell.execute_reply": "2021-05-25T11:07:24.417004Z",
     "shell.execute_reply.started": "2021-05-25T11:03:08.110015Z"
    },
    "papermill": {
     "duration": 0.096006,
     "end_time": "2021-05-25T11:07:24.417215",
     "exception": false,
     "start_time": "2021-05-25T11:07:24.321209",
     "status": "completed"
    },
    "tags": []
   },
   "outputs": [],
   "source": [
    "from sklearn.preprocessing import MinMaxScaler\n",
    "from sklearn.linear_model import LogisticRegression\n",
    "from sklearn.pipeline import Pipeline\n",
    "\n",
    "sc = MinMaxScaler()\n",
    "clf = LogisticRegression(penalty='l2', C=0.01)\n",
    "\n",
    "pipe_lr = Pipeline([('scaler', sc), ('clf', clf)])"
   ]
  },
  {
   "cell_type": "markdown",
   "id": "democratic-flashing",
   "metadata": {
    "papermill": {
     "duration": 0.084369,
     "end_time": "2021-05-25T11:07:24.587967",
     "exception": false,
     "start_time": "2021-05-25T11:07:24.503598",
     "status": "completed"
    },
    "tags": []
   },
   "source": [
    "Train the logisitc regression model."
   ]
  },
  {
   "cell_type": "code",
   "execution_count": 34,
   "id": "laden-liquid",
   "metadata": {
    "execution": {
     "iopub.execute_input": "2021-05-25T11:07:24.758021Z",
     "iopub.status.busy": "2021-05-25T11:07:24.757358Z",
     "iopub.status.idle": "2021-05-25T11:07:51.545183Z",
     "shell.execute_reply": "2021-05-25T11:07:51.546097Z",
     "shell.execute_reply.started": "2021-05-25T11:03:13.060565Z"
    },
    "papermill": {
     "duration": 26.874996,
     "end_time": "2021-05-25T11:07:51.546363",
     "exception": false,
     "start_time": "2021-05-25T11:07:24.671367",
     "status": "completed"
    },
    "tags": []
   },
   "outputs": [
    {
     "data": {
      "text/plain": [
       "Pipeline(steps=[('scaler', MinMaxScaler()),\n",
       "                ('clf', LogisticRegression(C=0.01))])"
      ]
     },
     "execution_count": 34,
     "metadata": {},
     "output_type": "execute_result"
    }
   ],
   "source": [
    "pipe_lr.fit(X_train, y_train)"
   ]
  },
  {
   "cell_type": "markdown",
   "id": "transparent-montana",
   "metadata": {
    "papermill": {
     "duration": 0.081666,
     "end_time": "2021-05-25T11:07:51.756484",
     "exception": false,
     "start_time": "2021-05-25T11:07:51.674818",
     "status": "completed"
    },
    "tags": []
   },
   "source": [
    "# Evaluating the logistic regression model"
   ]
  },
  {
   "cell_type": "markdown",
   "id": "chronic-clinton",
   "metadata": {
    "papermill": {
     "duration": 0.08198,
     "end_time": "2021-05-25T11:07:51.921753",
     "exception": false,
     "start_time": "2021-05-25T11:07:51.839773",
     "status": "completed"
    },
    "tags": []
   },
   "source": [
    "**Here, to look at the accuracy of the model we are looking at ROC-AUC-score.**\n",
    "\n",
    "ROC is a probability curve and AUC represents the degree or measure of separability. It tells how much the model is capable of distinguishing between classes. Higher the AUC, the better the model is at predicting 0s as 0s and 1s as 1s. A score of 0.73 means that our is good at differentiating"
   ]
  },
  {
   "cell_type": "code",
   "execution_count": 35,
   "id": "dominant-broadcast",
   "metadata": {
    "execution": {
     "iopub.execute_input": "2021-05-25T11:07:52.098433Z",
     "iopub.status.busy": "2021-05-25T11:07:52.097027Z",
     "iopub.status.idle": "2021-05-25T11:07:52.557691Z",
     "shell.execute_reply": "2021-05-25T11:07:52.558144Z",
     "shell.execute_reply.started": "2021-05-25T11:03:45.967331Z"
    },
    "papermill": {
     "duration": 0.552935,
     "end_time": "2021-05-25T11:07:52.558330",
     "exception": false,
     "start_time": "2021-05-25T11:07:52.005395",
     "status": "completed"
    },
    "tags": []
   },
   "outputs": [
    {
     "name": "stdout",
     "output_type": "stream",
     "text": [
      "ROC-AUC-score:  0.7104892429056107\n"
     ]
    },
    {
     "data": {
      "image/png": "[encoded data removed]",
      "text/plain": [
       "<Figure size 432x288 with 1 Axes>"
      ]
     },
     "metadata": {
      "needs_background": "light"
     },
     "output_type": "display_data"
    }
   ],
   "source": [
    "y_score = pipe_lr.predict_proba(X_test)[:,1]\n",
    "from sklearn.metrics import roc_auc_score, roc_curve,precision_score, recall_score, precision_recall_curve\n",
    "fpr, tpr, tresholds = roc_curve(y_test, y_score)\n",
    "plt.plot(fpr, tpr)\n",
    "plt.title('ROC')\n",
    "plt.xlabel('FPR')\n",
    "plt.ylabel('TPR')\n",
    "\n",
    "print('ROC-AUC-score: ', roc_auc_score(y_test, y_score))"
   ]
  },
  {
   "cell_type": "markdown",
   "id": "recreational-monitoring",
   "metadata": {
    "papermill": {
     "duration": 0.083524,
     "end_time": "2021-05-25T11:07:52.725140",
     "exception": false,
     "start_time": "2021-05-25T11:07:52.641616",
     "status": "completed"
    },
    "tags": []
   },
   "source": [
    "### Let's see which features are most important"
   ]
  },
  {
   "cell_type": "code",
   "execution_count": 36,
   "id": "graphic-vanilla",
   "metadata": {
    "execution": {
     "iopub.execute_input": "2021-05-25T11:07:52.958578Z",
     "iopub.status.busy": "2021-05-25T11:07:52.957506Z",
     "iopub.status.idle": "2021-05-25T11:07:52.968692Z",
     "shell.execute_reply": "2021-05-25T11:07:52.967451Z",
     "shell.execute_reply.started": "2021-05-25T11:03:50.294476Z"
    },
    "papermill": {
     "duration": 0.159291,
     "end_time": "2021-05-25T11:07:52.968935",
     "exception": false,
     "start_time": "2021-05-25T11:07:52.809644",
     "status": "completed"
    },
    "tags": []
   },
   "outputs": [
    {
     "name": "stdout",
     "output_type": "stream",
     "text": [
      "annual_inc_log :  -2.6783\n",
      "open_acc :  1.8065\n",
      "dti :  1.4653\n",
      "fico_range_low :  -1.4382\n",
      "grade :  1.1425\n",
      "total_acc :  -1.0599\n",
      "int_rate :  0.8063\n",
      "installment :  0.5876\n",
      "inq_last_6mths :  0.5253\n",
      "addr_state_OR :  -0.3868\n",
      "delinq_2yrs :  0.3778\n",
      "purpose_small_business :  0.3567\n",
      "revol_bal :  -0.3509\n",
      "term_ 60 months :  0.3063\n",
      "addr_state_CO :  -0.3047\n",
      "term_ 36 months :  -0.301\n",
      "addr_state_WA :  -0.2965\n",
      "addr_state_LA :  0.2442\n",
      "addr_state_SC :  -0.2258\n",
      "addr_state_AL :  0.2096\n",
      "pub_rec :  0.1996\n",
      "home_ownership_MORTGAGE :  -0.1795\n",
      "revol_util :  -0.1778\n",
      "home_ownership_RENT :  0.1766\n",
      "purpose_car :  -0.1696\n",
      "addr_state_CT :  -0.1607\n",
      "purpose_medical :  0.1492\n",
      "addr_state_MO :  0.1313\n",
      "addr_state_NV :  0.1182\n",
      "addr_state_IN :  0.1085\n",
      "addr_state_IL :  -0.1032\n",
      "addr_state_TN :  0.0988\n",
      "purpose_credit_card :  -0.0904\n",
      "addr_state_GA :  -0.089\n",
      "addr_state_NY :  0.0858\n",
      "addr_state_MD :  0.0851\n",
      "addr_state_FL :  0.0794\n",
      "addr_state_NJ :  0.0787\n",
      "addr_state_WI :  -0.0758\n",
      "verification_status_Verified_sum :  0.0699\n",
      "loan_amnt :  0.0659\n",
      "verification_status_Not Verified :  -0.0646\n",
      "addr_state_NC :  0.0619\n",
      "purpose_major_purchase :  0.0545\n",
      "addr_state_TX :  0.0518\n",
      "purpose_home_improvement :  0.0497\n",
      "addr_state_CA :  -0.0456\n",
      "addr_state_OH :  0.041\n",
      "addr_state_PA :  0.037\n",
      "emp_length_6 years :  -0.0282\n",
      "emp_length_< 1 year :  0.0281\n",
      "emp_length_7 years :  -0.0275\n",
      "emp_length_9 years :  0.0275\n",
      "emp_length_10+ years :  -0.0229\n",
      "emp_length_8 years :  0.0224\n",
      "emp_length_3 years :  0.0189\n",
      "addr_state_MN :  0.0184\n",
      "emp_length_1 year :  0.0182\n",
      "emp_length_5 years :  -0.0179\n",
      "purpose_other :  0.0173\n",
      "emp_length_2 years :  -0.0152\n",
      "addr_state_MA :  -0.0145\n",
      "addr_state_MI :  0.0075\n",
      "addr_state_AZ :  -0.0065\n",
      "purpose_debt_consolidation :  -0.0052\n",
      "addr_state_VA :  -0.004\n",
      "emp_length_4 years :  0.0019\n",
      "home_ownership_OWN :  0.0014\n"
     ]
    }
   ],
   "source": [
    "for i in np.argsort(-np.abs(pipe_lr.named_steps['clf'].coef_[0])):\n",
    "    print(X.columns[i], ': ', round(pipe_lr.named_steps['clf'].coef_[0,i], 4))"
   ]
  },
  {
   "cell_type": "markdown",
   "id": "armed-universal",
   "metadata": {
    "papermill": {
     "duration": 0.083381,
     "end_time": "2021-05-25T11:07:53.140739",
     "exception": false,
     "start_time": "2021-05-25T11:07:53.057358",
     "status": "completed"
    },
    "tags": []
   },
   "source": [
    "One can control the risk of the investments by choosing different tresholds. The higher one chooses the probability where to seperate good from bad loans the higher the default rate will be. We now write a function that transforms default probabilities to predictions. \n",
    "\n",
    "**<center>y_pred=1 if P(y_pred=1)≥θ else y_pred=0<center>**"
   ]
  },
  {
   "cell_type": "markdown",
   "id": "romance-mystery",
   "metadata": {
    "papermill": {
     "duration": 0.084495,
     "end_time": "2021-05-25T11:07:53.309512",
     "exception": false,
     "start_time": "2021-05-25T11:07:53.225017",
     "status": "completed"
    },
    "tags": []
   },
   "source": [
    "**By applying varying classification thresholds, we can trace out explicitly the trade-off between preicision and recall from the PR curve.**"
   ]
  },
  {
   "cell_type": "code",
   "execution_count": 37,
   "id": "narrow-strap",
   "metadata": {
    "execution": {
     "iopub.execute_input": "2021-05-25T11:07:53.488100Z",
     "iopub.status.busy": "2021-05-25T11:07:53.487091Z",
     "iopub.status.idle": "2021-05-25T11:07:53.490012Z",
     "shell.execute_reply": "2021-05-25T11:07:53.489459Z",
     "shell.execute_reply.started": "2021-05-25T11:03:54.079609Z"
    },
    "papermill": {
     "duration": 0.095344,
     "end_time": "2021-05-25T11:07:53.490158",
     "exception": false,
     "start_time": "2021-05-25T11:07:53.394814",
     "status": "completed"
    },
    "tags": []
   },
   "outputs": [],
   "source": [
    "def plot_precision_recall_curve(y_score, y_test, thresholds):\n",
    "    preds = [np.where(y_score > threshold, 1, 0) for threshold in thresholds]\n",
    "    precisions = [precision_score(y_test, pred) for pred in preds]\n",
    "    recalls = [recall_score(y_test, pred) for pred in preds]\n",
    "    precision_recall = pd.DataFrame({'Precision': precisions, 'Recall': recalls, \"Threshold\": thresholds})\n",
    "    \n",
    "\n",
    "    precision_recall.plot(x = 'Threshold')\n",
    "    plt.title('Precision, Recall vs. Threshold')\n",
    "    plt.show()"
   ]
  },
  {
   "cell_type": "code",
   "execution_count": 38,
   "id": "technical-array",
   "metadata": {
    "execution": {
     "iopub.execute_input": "2021-05-25T11:07:53.665559Z",
     "iopub.status.busy": "2021-05-25T11:07:53.664920Z",
     "iopub.status.idle": "2021-05-25T11:07:55.099887Z",
     "shell.execute_reply": "2021-05-25T11:07:55.100445Z",
     "shell.execute_reply.started": "2021-05-25T11:04:02.901835Z"
    },
    "papermill": {
     "duration": 1.525852,
     "end_time": "2021-05-25T11:07:55.100619",
     "exception": false,
     "start_time": "2021-05-25T11:07:53.574767",
     "status": "completed"
    },
    "tags": []
   },
   "outputs": [
    {
     "data": {
      "image/png": "[encoded data removed]",
      "text/plain": [
       "<Figure size 432x288 with 1 Axes>"
      ]
     },
     "metadata": {
      "needs_background": "light"
     },
     "output_type": "display_data"
    }
   ],
   "source": [
    "thresholds = np.arange(0.05, 0.85, 0.1)\n",
    "plot_precision_recall_curve(y_score, y_test, thresholds)"
   ]
  },
  {
   "cell_type": "markdown",
   "id": "editorial-specification",
   "metadata": {
    "papermill": {
     "duration": 0.085256,
     "end_time": "2021-05-25T11:07:55.272982",
     "exception": false,
     "start_time": "2021-05-25T11:07:55.187726",
     "status": "completed"
    },
    "tags": []
   },
   "source": [
    "* Positive: Charge Off\n",
    "* Negative: Fully Paid\n",
    "* Precision is defined as True Positive/(True Positive + False Positive).\n",
    "* Recall is defined as True Positive/(True Positive + False Negative).\n",
    "At the default threshold 0.2, we have a precision 0.3 and recall 0.65, which means we have a significant number of false positives. In other words, many borrowers who paid off are predicted to have a charge off.\n",
    "\n",
    "In the business setting, the threshold is set differently by business objectives. For example, if LendingClub wants to minimize the loan loss due to charge offs, they may want to lower the threshold to get a good recall score. This would reduce the likelihood that the positive class(charge off) is missed. However, on the other side, the precision score would go down, resulting in more false positives. That means a growing number of borrowers who paid off are predicted to have a charge off. This would cause the borrowers to have a bad experience with the company. And more importantly, LendingClub would lose the interest income collected from those who are incorrectly classified. Vice versa."
   ]
  },
  {
   "cell_type": "markdown",
   "id": "printable-ordinance",
   "metadata": {
    "papermill": {
     "duration": 0.085108,
     "end_time": "2021-05-25T11:07:55.443694",
     "exception": false,
     "start_time": "2021-05-25T11:07:55.358586",
     "status": "completed"
    },
    "tags": []
   },
   "source": [
    "# Loan Loss Prediction"
   ]
  },
  {
   "cell_type": "markdown",
   "id": "textile-notification",
   "metadata": {
    "papermill": {
     "duration": 0.084918,
     "end_time": "2021-05-25T11:07:55.615372",
     "exception": false,
     "start_time": "2021-05-25T11:07:55.530454",
     "status": "completed"
    },
    "tags": []
   },
   "source": [
    "By utilizing the machine learning model, we are trying to predict the loan loss for those current borrowers.\n",
    "\n",
    "Assume threshold = 0.5."
   ]
  },
  {
   "cell_type": "code",
   "execution_count": 39,
   "id": "aggressive-affiliation",
   "metadata": {
    "execution": {
     "iopub.execute_input": "2021-05-25T11:07:55.789298Z",
     "iopub.status.busy": "2021-05-25T11:07:55.788594Z",
     "iopub.status.idle": "2021-05-25T11:08:04.148269Z",
     "shell.execute_reply": "2021-05-25T11:08:04.148799Z",
     "shell.execute_reply.started": "2021-05-25T11:04:05.512830Z"
    },
    "papermill": {
     "duration": 8.44858,
     "end_time": "2021-05-25T11:08:04.148988",
     "exception": false,
     "start_time": "2021-05-25T11:07:55.700408",
     "status": "completed"
    },
    "tags": []
   },
   "outputs": [],
   "source": [
    "business_data_orig=df_orig[df_orig['loan_status'] == 'Current']\n",
    "business_data = df_orig[df_orig['loan_status'] == 'Current']\n",
    "business_data['emp_length_num'] = business_data['emp_length'].apply(emp_to_num)\n",
    "business_data['long_emp'] = business_data['emp_length'].apply(lambda x: 1*(x=='10+ years'))\n",
    "business_data['short_emp'] = business_data['emp_length'].apply(lambda x: 1*(x=='1 year' or x=='< 1 year'))\n",
    "# print(business_data.shape[0])\n",
    "business_data = business_data[business_data['annual_inc']>0]\n",
    "# print(business_data.shape[0])\n",
    "business_data['annual_inc_log'] = business_data['annual_inc'].apply(np.log)\n",
    "columns = ['loan_amnt', 'term', 'int_rate',\n",
    "       'installment', 'grade', 'emp_length',\n",
    "       'home_ownership', 'annual_inc_log', 'verification_status','purpose',\n",
    "       'addr_state', 'dti', 'delinq_2yrs',\n",
    "       'fico_range_low', 'inq_last_6mths', 'open_acc',\n",
    "       'pub_rec', 'revol_bal', 'revol_util', 'total_acc','funded_amnt']\n",
    "business_data = business_data[columns]\n",
    "business_data.dropna(inplace=True)\n",
    "business_data['grade']=business_data['grade'].map({'A': 1, 'B': 2, 'C': 3, 'D': 4, 'E': 5, 'F': 6, 'G': 7})\n",
    "business_data_dummies = pd.get_dummies(business_data)\n",
    "drop_columns = business_data_dummies.columns[(business_data_dummies.mean()<0.01)]\n",
    "business_data_dummies.drop(drop_columns, axis=1, inplace=True)\n",
    "business_data_dummies['annual_inc_log'] = business_data['annual_inc_log']\n",
    "business_data_dummies['verification_status_Verified_sum'] = business_data_dummies['verification_status_Source Verified']+business_data_dummies['verification_status_Verified']\n",
    "business_data_dummies.drop(['verification_status_Source Verified', 'verification_status_Verified'], axis=1, inplace=True)\n",
    "business_data_dummies.drop(['funded_amnt'],axis=1, inplace=True)\n",
    "# print(len(business_data_dummies.columns))\n",
    "# business_data_dummies['annual_inc_log'].min()"
   ]
  },
  {
   "cell_type": "markdown",
   "id": "incomplete-contrary",
   "metadata": {
    "papermill": {
     "duration": 0.08533,
     "end_time": "2021-05-25T11:08:04.320359",
     "exception": false,
     "start_time": "2021-05-25T11:08:04.235029",
     "status": "completed"
    },
    "tags": []
   },
   "source": [
    "First we run the model with business data, and get the probability of charge off for each borrower."
   ]
  },
  {
   "cell_type": "code",
   "execution_count": 40,
   "id": "chinese-secretariat",
   "metadata": {
    "execution": {
     "iopub.execute_input": "2021-05-25T11:08:04.494571Z",
     "iopub.status.busy": "2021-05-25T11:08:04.493976Z",
     "iopub.status.idle": "2021-05-25T11:08:04.950422Z",
     "shell.execute_reply": "2021-05-25T11:08:04.951319Z",
     "shell.execute_reply.started": "2021-05-25T11:04:19.587816Z"
    },
    "papermill": {
     "duration": 0.545737,
     "end_time": "2021-05-25T11:08:04.951598",
     "exception": false,
     "start_time": "2021-05-25T11:08:04.405861",
     "status": "completed"
    },
    "tags": []
   },
   "outputs": [],
   "source": [
    "y_score_business_data = pipe_lr.predict_proba(business_data_dummies)[:, 1]"
   ]
  },
  {
   "cell_type": "markdown",
   "id": "finite-feeding",
   "metadata": {
    "papermill": {
     "duration": 0.08532,
     "end_time": "2021-05-25T11:08:05.155078",
     "exception": false,
     "start_time": "2021-05-25T11:08:05.069758",
     "status": "completed"
    },
    "tags": []
   },
   "source": [
    "Secondly we are going to use ECL model to calculate the expected loan loss.\n",
    "\n",
    "Expected Credit Loss = LGD x PD x EAD The expected loss is calculated as a loan’s LGD multiplied by both its probability of default (PD) and the financial institution’s exposure at default (EAD).\n",
    "\n",
    "LGD(%): the amount unrecovered by the lender after selling the underlying asset if a borrower defaults on a loan. Because there is no collateral requirement for all of loans in the data, LGD equals to 1.\n",
    "\n",
    "PD: Probability of default, which is the feauture y_score_business_data.\n",
    "\n",
    "EAD: Remaining outstanding principal, which is the feature 'funded_amnt'."
   ]
  },
  {
   "cell_type": "code",
   "execution_count": 41,
   "id": "broke-wallpaper",
   "metadata": {
    "execution": {
     "iopub.execute_input": "2021-05-25T11:08:05.332284Z",
     "iopub.status.busy": "2021-05-25T11:08:05.331582Z",
     "iopub.status.idle": "2021-05-25T11:08:05.339828Z",
     "shell.execute_reply": "2021-05-25T11:08:05.340287Z",
     "shell.execute_reply.started": "2021-05-25T11:04:24.044948Z"
    },
    "papermill": {
     "duration": 0.099969,
     "end_time": "2021-05-25T11:08:05.340471",
     "exception": false,
     "start_time": "2021-05-25T11:08:05.240502",
     "status": "completed"
    },
    "tags": []
   },
   "outputs": [
    {
     "data": {
      "text/plain": [
       "array([[6105.8789704 ],\n",
       "       [3414.65882545],\n",
       "       [2969.16858017],\n",
       "       ...,\n",
       "       [4139.54850999],\n",
       "       [5999.92731078],\n",
       "       [3719.48967146]])"
      ]
     },
     "execution_count": 41,
     "metadata": {},
     "output_type": "execute_result"
    }
   ],
   "source": [
    "PD = pd.DataFrame(y_score_business_data.reshape(-1, 1))\n",
    "EAD = pd.DataFrame(business_data['funded_amnt'])\n",
    "\n",
    "Expected_Loss = PD.values * EAD.values\n",
    "Expected_Loss"
   ]
  },
  {
   "cell_type": "code",
   "execution_count": 42,
   "id": "intended-housing",
   "metadata": {
    "execution": {
     "iopub.execute_input": "2021-05-25T11:08:05.515590Z",
     "iopub.status.busy": "2021-05-25T11:08:05.514975Z",
     "iopub.status.idle": "2021-05-25T11:08:05.520000Z",
     "shell.execute_reply": "2021-05-25T11:08:05.519365Z",
     "shell.execute_reply.started": "2021-05-25T11:04:25.963749Z"
    },
    "papermill": {
     "duration": 0.094394,
     "end_time": "2021-05-25T11:08:05.520139",
     "exception": false,
     "start_time": "2021-05-25T11:08:05.425745",
     "status": "completed"
    },
    "tags": []
   },
   "outputs": [],
   "source": [
    "business_data['expected_loss'] = Expected_Loss"
   ]
  },
  {
   "cell_type": "code",
   "execution_count": 43,
   "id": "spectacular-present",
   "metadata": {
    "execution": {
     "iopub.execute_input": "2021-05-25T11:08:05.698006Z",
     "iopub.status.busy": "2021-05-25T11:08:05.697166Z",
     "iopub.status.idle": "2021-05-25T11:08:05.700320Z",
     "shell.execute_reply": "2021-05-25T11:08:05.700839Z",
     "shell.execute_reply.started": "2021-05-25T11:04:29.253359Z"
    },
    "papermill": {
     "duration": 0.095445,
     "end_time": "2021-05-25T11:08:05.701020",
     "exception": false,
     "start_time": "2021-05-25T11:08:05.605575",
     "status": "completed"
    },
    "tags": []
   },
   "outputs": [
    {
     "name": "stdout",
     "output_type": "stream",
     "text": [
      "We have 811979 current borrowers totally.\n"
     ]
    }
   ],
   "source": [
    "print('We have {} current borrowers totally.'.format(business_data.shape[0]))"
   ]
  },
  {
   "cell_type": "markdown",
   "id": "nuclear-significance",
   "metadata": {
    "papermill": {
     "duration": 0.087749,
     "end_time": "2021-05-25T11:08:05.877141",
     "exception": false,
     "start_time": "2021-05-25T11:08:05.789392",
     "status": "completed"
    },
    "tags": []
   },
   "source": [
    "### Distribution of Expected Loss"
   ]
  },
  {
   "cell_type": "code",
   "execution_count": 44,
   "id": "moral-party",
   "metadata": {
    "execution": {
     "iopub.execute_input": "2021-05-25T11:08:06.079748Z",
     "iopub.status.busy": "2021-05-25T11:08:06.078726Z",
     "iopub.status.idle": "2021-05-25T11:08:06.432571Z",
     "shell.execute_reply": "2021-05-25T11:08:06.433114Z",
     "shell.execute_reply.started": "2021-05-25T11:04:32.729009Z"
    },
    "papermill": {
     "duration": 0.467903,
     "end_time": "2021-05-25T11:08:06.433298",
     "exception": false,
     "start_time": "2021-05-25T11:08:05.965395",
     "status": "completed"
    },
    "tags": []
   },
   "outputs": [
    {
     "data": {
      "image/png": "[encoded data removed]",
      "text/plain": [
       "<Figure size 432x288 with 1 Axes>"
      ]
     },
     "metadata": {},
     "output_type": "display_data"
    }
   ],
   "source": [
    "import seaborn as sns\n",
    "sns.set(style = 'ticks')\n",
    "sns.distplot(business_data['expected_loss'], kde = False)\n",
    "# plt.xlim(0, 20000)\n",
    "plt.title('Distribution of Expected Loss')\n",
    "plt.ylabel(\"Count\")\n",
    "plt.show()"
   ]
  },
  {
   "cell_type": "code",
   "execution_count": 45,
   "id": "suffering-howard",
   "metadata": {
    "execution": {
     "iopub.execute_input": "2021-05-25T11:08:06.609872Z",
     "iopub.status.busy": "2021-05-25T11:08:06.608878Z",
     "iopub.status.idle": "2021-05-25T11:08:06.645386Z",
     "shell.execute_reply": "2021-05-25T11:08:06.644766Z",
     "shell.execute_reply.started": "2021-05-25T11:04:36.492554Z"
    },
    "papermill": {
     "duration": 0.126222,
     "end_time": "2021-05-25T11:08:06.645523",
     "exception": false,
     "start_time": "2021-05-25T11:08:06.519301",
     "status": "completed"
    },
    "tags": []
   },
   "outputs": [
    {
     "data": {
      "text/plain": [
       "count    811979.000000\n",
       "mean       3281.832495\n",
       "std        3120.801997\n",
       "min          22.318613\n",
       "25%        1011.490179\n",
       "50%        2250.081717\n",
       "75%        4570.273056\n",
       "max       31915.581969\n",
       "Name: expected_loss, dtype: float64"
      ]
     },
     "execution_count": 45,
     "metadata": {},
     "output_type": "execute_result"
    }
   ],
   "source": [
    "business_data['expected_loss'].describe()"
   ]
  },
  {
   "cell_type": "markdown",
   "id": "ongoing-hindu",
   "metadata": {
    "papermill": {
     "duration": 0.088822,
     "end_time": "2021-05-25T11:08:06.821027",
     "exception": false,
     "start_time": "2021-05-25T11:08:06.732205",
     "status": "completed"
    },
    "tags": []
   },
   "source": [
    "The mean expected loss is 3282. Over 30% of current borrowers owe less than 2500, while 75% of the population owe less than 5000. But we could also see some substantial loss, says 19000 or beyond."
   ]
  },
  {
   "cell_type": "markdown",
   "id": "other-expense",
   "metadata": {
    "papermill": {
     "duration": 0.087254,
     "end_time": "2021-05-25T11:08:06.997242",
     "exception": false,
     "start_time": "2021-05-25T11:08:06.909988",
     "status": "completed"
    },
    "tags": []
   },
   "source": [
    "### Grade vs. loan loss"
   ]
  },
  {
   "cell_type": "code",
   "execution_count": 46,
   "id": "beginning-calgary",
   "metadata": {
    "execution": {
     "iopub.execute_input": "2021-05-25T11:08:07.177250Z",
     "iopub.status.busy": "2021-05-25T11:08:07.176286Z",
     "iopub.status.idle": "2021-05-25T11:08:07.438083Z",
     "shell.execute_reply": "2021-05-25T11:08:07.438613Z",
     "shell.execute_reply.started": "2021-05-25T11:04:39.171976Z"
    },
    "papermill": {
     "duration": 0.353228,
     "end_time": "2021-05-25T11:08:07.438816",
     "exception": false,
     "start_time": "2021-05-25T11:08:07.085588",
     "status": "completed"
    },
    "tags": []
   },
   "outputs": [
    {
     "data": {
      "image/png": "[encoded data removed]",
      "text/plain": [
       "<Figure size 432x288 with 1 Axes>"
      ]
     },
     "metadata": {},
     "output_type": "display_data"
    }
   ],
   "source": [
    "loss_by_grade = business_data[['grade', 'expected_loss']].groupby('grade').mean() \\\n",
    "                                                  .sort_values('expected_loss', ascending = False).head(10)\n",
    "\n",
    "sns.barplot(loss_by_grade.index, loss_by_grade['expected_loss'])\n",
    "plt.title('Grade vs. Expected Loss')\n",
    "plt.ylabel(\"Expected Mean Loss\")\n",
    "plt.show()"
   ]
  },
  {
   "cell_type": "markdown",
   "id": "tutorial-playing",
   "metadata": {
    "papermill": {
     "duration": 0.090606,
     "end_time": "2021-05-25T11:08:07.620870",
     "exception": false,
     "start_time": "2021-05-25T11:08:07.530264",
     "status": "completed"
    },
    "tags": []
   },
   "source": [
    "The higher the grade, the less the mean loss. We would suggest enhancing scrutiny for borrowers with low grades since they are more likely to have charge offs with the greater amount."
   ]
  },
  {
   "cell_type": "markdown",
   "id": "employed-letters",
   "metadata": {
    "papermill": {
     "duration": 0.092599,
     "end_time": "2021-05-25T11:08:07.802242",
     "exception": false,
     "start_time": "2021-05-25T11:08:07.709643",
     "status": "completed"
    },
    "tags": []
   },
   "source": [
    "### Term vs. loan loss"
   ]
  },
  {
   "cell_type": "code",
   "execution_count": 47,
   "id": "adapted-stadium",
   "metadata": {
    "execution": {
     "iopub.execute_input": "2021-05-25T11:08:07.988178Z",
     "iopub.status.busy": "2021-05-25T11:08:07.987192Z",
     "iopub.status.idle": "2021-05-25T11:08:08.748003Z",
     "shell.execute_reply": "2021-05-25T11:08:08.748503Z",
     "shell.execute_reply.started": "2021-05-25T11:04:43.364890Z"
    },
    "papermill": {
     "duration": 0.854116,
     "end_time": "2021-05-25T11:08:08.748754",
     "exception": false,
     "start_time": "2021-05-25T11:08:07.894638",
     "status": "completed"
    },
    "tags": []
   },
   "outputs": [
    {
     "data": {
      "text/plain": [
       "<AxesSubplot:title={'center':'term = 60 months'}, ylabel='Frequency'>"
      ]
     },
     "execution_count": 47,
     "metadata": {},
     "output_type": "execute_result"
    },
    {
     "data": {
      "image/png": "[encoded data removed]",
      "text/plain": [
       "<Figure size 432x288 with 2 Axes>"
      ]
     },
     "metadata": {},
     "output_type": "display_data"
    }
   ],
   "source": [
    "plt.subplot(1,2,1)\n",
    "business_data[business_data['term']==' 36 months']['expected_loss'].plot.hist(bins=20,title='term = 36 months')\n",
    "plt.subplot(1,2,2)\n",
    "business_data[business_data['term']== ' 60 months']['expected_loss'].plot.hist(bins=20,title='term = 60 months')"
   ]
  },
  {
   "cell_type": "markdown",
   "id": "quick-liver",
   "metadata": {
    "papermill": {
     "duration": 0.089874,
     "end_time": "2021-05-25T11:08:08.929509",
     "exception": false,
     "start_time": "2021-05-25T11:08:08.839635",
     "status": "completed"
    },
    "tags": []
   },
   "source": [
    "We could see that most of our current payments are in the 60 month term, and we could also see that most of them are less than 10000 and in 36 months, since the number of loans are low the distribution is deverse"
   ]
  },
  {
   "cell_type": "markdown",
   "id": "ambient-turning",
   "metadata": {
    "papermill": {
     "duration": 0.08898,
     "end_time": "2021-05-25T11:08:09.111801",
     "exception": false,
     "start_time": "2021-05-25T11:08:09.022821",
     "status": "completed"
    },
    "tags": []
   },
   "source": [
    "### Loan Loss by State"
   ]
  },
  {
   "cell_type": "code",
   "execution_count": 48,
   "id": "editorial-million",
   "metadata": {
    "execution": {
     "iopub.execute_input": "2021-05-25T11:08:09.294817Z",
     "iopub.status.busy": "2021-05-25T11:08:09.294123Z",
     "iopub.status.idle": "2021-05-25T11:08:09.375462Z",
     "shell.execute_reply": "2021-05-25T11:08:09.375983Z",
     "shell.execute_reply.started": "2021-05-25T11:04:46.786010Z"
    },
    "papermill": {
     "duration": 0.17417,
     "end_time": "2021-05-25T11:08:09.376179",
     "exception": false,
     "start_time": "2021-05-25T11:08:09.202009",
     "status": "completed"
    },
    "tags": []
   },
   "outputs": [],
   "source": [
    "ls_state = business_data[['addr_state', 'expected_loss']].groupby('addr_state', as_index = False).sum() \\\n",
    "                                                  .sort_values('expected_loss', ascending = False)\n",
    "ls_state.columns = ['State', 'Expected Loss']"
   ]
  },
  {
   "cell_type": "code",
   "execution_count": 49,
   "id": "active-edinburgh",
   "metadata": {
    "execution": {
     "iopub.execute_input": "2021-05-25T11:08:09.558870Z",
     "iopub.status.busy": "2021-05-25T11:08:09.558258Z",
     "iopub.status.idle": "2021-05-25T11:08:10.077485Z",
     "shell.execute_reply": "2021-05-25T11:08:10.077995Z",
     "shell.execute_reply.started": "2021-05-25T11:04:50.419372Z"
    },
    "papermill": {
     "duration": 0.611869,
     "end_time": "2021-05-25T11:08:10.078182",
     "exception": false,
     "start_time": "2021-05-25T11:08:09.466313",
     "status": "completed"
    },
    "tags": []
   },
   "outputs": [
    {
     "data": {
      "text/plain": [
       "<AxesSubplot:title={'center':'Expected Loss'}, xlabel='State'>"
      ]
     },
     "execution_count": 49,
     "metadata": {},
     "output_type": "execute_result"
    },
    {
     "data": {
      "image/png": "[encoded data removed]",
      "text/plain": [
       "<Figure size 1152x720 with 1 Axes>"
      ]
     },
     "metadata": {},
     "output_type": "display_data"
    }
   ],
   "source": [
    "ls_state.groupby('State')['Expected Loss'].mean().plot.bar(title='Expected Loss',figsize=(16, 10))"
   ]
  },
  {
   "cell_type": "markdown",
   "id": "received-royal",
   "metadata": {
    "papermill": {
     "duration": 0.090187,
     "end_time": "2021-05-25T11:08:10.258898",
     "exception": false,
     "start_time": "2021-05-25T11:08:10.168711",
     "status": "completed"
    },
    "tags": []
   },
   "source": [
    "California, New York, and Texas are the top three states with the highest expected loss. We would suggest making significant efforts to collect outstanding payments in these state. Also, stronger scrutiny on requests from these states"
   ]
  }
 ],
 "metadata": {
  "kernelspec": {
   "display_name": "Python 3",
   "language": "python",
   "name": "python3"
  },
  "language_info": {
   "codemirror_mode": {
    "name": "ipython",
    "version": 3
   },
   "file_extension": ".py",
   "mimetype": "text/x-python",
   "name": "python",
   "nbconvert_exporter": "python",
   "pygments_lexer": "ipython3",
   "version": "3.7.9"
  },
  "papermill": {
   "default_parameters": {},
   "duration": 179.978859,
   "end_time": "2021-05-25T11:08:11.763326",
   "environment_variables": {},
   "exception": null,
   "input_path": "__notebook__.ipynb",
   "output_path": "__notebook__.ipynb",
   "parameters": {},
   "start_time": "2021-05-25T11:05:11.784467",
   "version": "2.3.2"
  }
 },
 "nbformat": 4,
 "nbformat_minor": 5
}
